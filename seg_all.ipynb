{
 "cells": [
  {
   "cell_type": "code",
   "execution_count": 1,
   "metadata": {},
   "outputs": [],
   "source": [
    "%load_ext autoreload\n",
    "%autoreload 2\n",
    "import subprocess\n",
    "from pathlib import Path\n",
    "\n",
    "from TPTBox import BIDS_FILE, NII, POI, BIDS_Global_info, Location, calc_poi_from_subreg_vert, to_nii\n",
    "from TPTBox.core.bids_constants import sequence_splitting_keys\n",
    "from TPTBox.core.dicom import dicom_extract\n",
    "from TPTBox.stitching import stitching\n",
    "\n",
    "# TODO TotalSeg\n",
    "# TODO Muscle if psoas visible\n",
    "# TODO Spineps if spine visible\n",
    "# TODO TotalSpineSeg\n",
    "\n",
    "#Export from dicom\n",
    "dicom_dataset:Path|None = None #If already exported from dicom: None\n",
    "nii_dataset = \"/DATA/NAS/ongoing_projects/robert/datasets/dataset-University-Hospital-Brno\"\n",
    "# Stich images make 4D into 3D images\n",
    "stiching = False # TODO Must be customized, what to stiched. Same is for splitting 4D data into 3D.\n",
    "\n",
    "# Segmentation\n",
    "run_spineps = False # Must be installed https://github.com/Hendrik-code/spineps\n",
    "run_totalvibeseg = True # Must be installed https://github.com/Hendrik-code/spineps\n",
    "\n",
    "# Analysis\n",
    "run_cobb_and_lordosis_and_kyphosis = True and run_spineps"
   ]
  },
  {
   "cell_type": "code",
   "execution_count": 6,
   "metadata": {},
   "outputs": [],
   "source": [
    "nii_dataset = Path(nii_dataset)\n",
    "### extract dicom ###\n",
    "if dicom_dataset is not None:\n",
    "    dicom_extract.extract_folder(dicom_dataset, nii_dataset)"
   ]
  },
  {
   "cell_type": "code",
   "execution_count": 7,
   "metadata": {},
   "outputs": [],
   "source": [
    "### stitching and splitting in to 3D array ###\n",
    "# TODO  Must be customized, what to stiched. Same is for splitting 4D data into 3D.\n",
    "if stiching:\n",
    "    def stitching2(l: list[NII], out: BIDS_FILE):\n",
    "        if out.exists():\n",
    "            return\n",
    "        if l[0].get_num_dims() == 4:\n",
    "            for i, name in enumerate([\"water\", \"inphase\", \"fat\"]):\n",
    "                # TODO assume a 4D image is water/inphase/fat (x,y,z,3). This will not be true in general.\n",
    "                stitching2(\n",
    "                    [n.split_4D_image_to_3D()[i] for n in l],\n",
    "                    out.get_changed_bids(info={\"part\": name}, parent=\"rawdata\", non_strict_mode=True),\n",
    "                )\n",
    "        else:\n",
    "            assert l[0].get_num_dims() == 3, l[0].shape\n",
    "            stitching(*l, out=out, dtype=l[0].dtype)\n",
    "    sequence_splitting_keys.remove(\"sequ\")\n",
    "    print(\"Files are splitted by this keywords:\",sequence_splitting_keys)\n",
    "    bgi = BIDS_Global_info(nii_dataset, sequence_splitting_keys=sequence_splitting_keys)\n",
    "    for _name, subject in bgi.enumerate_subjects():\n",
    "        q = subject.new_query(flatten=True)\n",
    "        q.filter_filetype(\"nii.gz\")\n",
    "        # TODO add filter for things that should never be stichted\n",
    "        q.filter(\"sequ\", lambda x: \"stitched\" not in str(x), required=False)\n",
    "        q.unflatten()\n",
    "\n",
    "        for i in q.loop_dict(key_addendum=[\"acq\"]): #only \"acq\" that are equal are stiched\n",
    "            for k, v in i.items():\n",
    "                # you must decide witch files to stich. Currently all with the same ending bids_format and ax/iso/sag/cor (e. g. sub-*_acq-ax*_T2w.nii.gz) will be stiched.\n",
    "                print(k)\n",
    "                sequ = \"stitched\"\n",
    "                if \"sequ\" in v[0].info:\n",
    "                    sequ = sequ + \"-\" + str(v[0].get(\"sequ\",\"\"))\n",
    "                stitching2(\n",
    "                    [to_nii(x) for x in v],\n",
    "                    v[0].get_changed_bids(parent=\"rawdata\", info={\"sequ\": sequ}, non_strict_mode=True),\n",
    "                )\n",
    "                print(i)\n"
   ]
  },
  {
   "cell_type": "code",
   "execution_count": 8,
   "metadata": {},
   "outputs": [],
   "source": [
    "if run_spineps:\n",
    "    from TPTBox.segmentation.spineps import run_spineps_all\n",
    "    run_spineps_all(nii_dataset)"
   ]
  },
  {
   "cell_type": "code",
   "execution_count": null,
   "metadata": {},
   "outputs": [],
   "source": [
    "if run_totalvibeseg:\n",
    "    bgi = BIDS_Global_info(nii_dataset, sequence_splitting_keys=sequence_splitting_keys)\n",
    "    for _name, subject in bgi.enumerate_subjects():\n",
    "        q = subject.new_query(flatten=True)\n",
    "        q.filter_filetype(\"nii.gz\")\n",
    "        q.filter_format(lambda x: x not in [\"msk\",\"seg\"])\n",
    "        q.filter(\"seg\",lambda _x: False,required=False)\n",
    "        for i in q.loop_list():\n",
    "            out_seg = i.get_changed_path(\"nii.gz\",\"msk\",parent=\"derivatives\",info={\"seg\":\"TotalVibeSeg80\"},non_strict_mode=True)\n",
    "            if out_seg.exists():\n",
    "                continue\n",
    "            from TPTBox.segmentation.TotalVibeSeg.inference_nnunet import run_inference_on_file\n",
    "            run_inference_on_file(80,[to_nii(i)],out_file=out_seg)"
   ]
  },
  {
   "cell_type": "code",
   "execution_count": 10,
   "metadata": {},
   "outputs": [],
   "source": [
    "from TPTBox.core.bids_constants import formats\n",
    "\n",
    "result_cobb = {}\n",
    "if run_cobb_and_lordosis_and_kyphosis:\n",
    "    ### TODO ###\n",
    "    ############\n",
    "    from TPTBox.spine.statistics.angles import plot_cobb_and_lordosis_and_kyphosis\n",
    "    bgi = BIDS_Global_info(nii_dataset)\n",
    "    for _name, subject in bgi.enumerate_subjects():\n",
    "        q = subject.new_query()\n",
    "        q.filter(\"seg\", lambda x: x in [\"spine\",\"subreg\"])\n",
    "        q.filter(\"seg\",\"vert\")\n",
    "        for fam in q.loop_dict():\n",
    "            subreg = fam[\"msk_seg-spine\"][0] if \"msk_seg-spine\" in fam else fam[\"msk_seg-subreg\"][0]\n",
    "            #dataset / \"derivatives_seg/sub-0003106805/T2w/sub-0003106805_sequ-stitched_acq-sag_mod-T2w_part-inphase_seg-spine_msk.nii.gz\"\n",
    "            vert = fam[\"msk_seg-vert\"][0]\n",
    "            img = vert\n",
    "            for i in formats:\n",
    "                if i in fam:\n",
    "                    img =fam[i][0]\n",
    "                    break\n",
    "            poi = calc_poi_from_subreg_vert(\n",
    "                vert,\n",
    "                subreg,\n",
    "                subreg_id=[\n",
    "                    Location.Vertebra_Direction_Right,\n",
    "                    Location.Vertebra_Disc_Inferior,\n",
    "                    Location.Vertebra_Disc,\n",
    "                    100\n",
    "                ],\n",
    "            )\n",
    "            # Optimal save poi with poi.save\n",
    "            jpg_out_name = subreg.get_changed_path('jpg','snp',info={'desc':'cobb_and_lordosis_and_kyphosis'})\n",
    "            a, b, _ = plot_cobb_and_lordosis_and_kyphosis(\n",
    "                jpg_out_name,\n",
    "                poi,\n",
    "                img,\n",
    "                vert\n",
    "            )\n",
    "            result_cobb[fam.family_id] = (a,b)\n",
    "            print(a, b)\n"
   ]
  },
  {
   "cell_type": "code",
   "execution_count": 11,
   "metadata": {},
   "outputs": [],
   "source": [
    "#totalspineseg /DATA/NAS/ongoing_projects/robert/datasets/dataset-University-Hospital-Brno/rawdata/ /DATA/NAS/ongoing_projects/robert/datasets/dataset-University-Hospital-Brno/derivative_totalspineseg --BIDS"
   ]
  },
  {
   "cell_type": "code",
   "execution_count": null,
   "metadata": {},
   "outputs": [],
   "source": []
  },
  {
   "cell_type": "code",
   "execution_count": 12,
   "metadata": {},
   "outputs": [],
   "source": []
  },
  {
   "cell_type": "code",
   "execution_count": 1,
   "metadata": {},
   "outputs": [],
   "source": [
    "from TPTBox.segmentation.oar_segmentator.run import run_oar_segmentor\n",
    "\n"
   ]
  },
  {
   "cell_type": "code",
   "execution_count": 3,
   "metadata": {},
   "outputs": [
    {
     "name": "stdout",
     "output_type": "stream",
     "text": [
      "resample\n",
      "start\n"
     ]
    },
    {
     "name": "stderr",
     "output_type": "stream",
     "text": [
      "Predict oar segmentation: 100%|██████████| 9/9 [01:38<00:00, 10.92s/it]\n",
      "Saving segmentations:   0%|          | 0/9 [00:00<?, ?it/s]"
     ]
    },
    {
     "name": "stdout",
     "output_type": "stream",
     "text": [
      "\u001b[96m[*] Save /DATA/NAS/datasets_processed/CT_spine/dataset-shockroom-without-fx/rawdata_fixed/sub-CTFU03465/ses-20190725/derivatives/sub-CTFU03465_ses-20190725_sequ-6_seg-oar-259_msk.nii.gz as uint8\u001b[0m\u001b[0m\n"
     ]
    },
    {
     "name": "stderr",
     "output_type": "stream",
     "text": [
      "Saving segmentations: 100%|██████████| 9/9 [00:09<00:00,  1.05s/it]\n"
     ]
    },
    {
     "name": "stdout",
     "output_type": "stream",
     "text": [
      "\u001b[0m[ ] resample_from_to: shp=(258, 251, 367); ori=('R', 'A', 'S'), zoom=(1.5, 1.5, 1.5), seg=True to ((512, 499, 917), array([[-7.55859375e-01,  0.00000000e+00, -0.00000000e+00,\n",
      "         2.10122070e+02],\n",
      "       [-0.00000000e+00,  7.55859375e-01, -0.00000000e+00,\n",
      "         4.23779297e+01],\n",
      "       [ 0.00000000e+00,  0.00000000e+00,  6.00097656e-01,\n",
      "        -1.34380005e+03],\n",
      "       [ 0.00000000e+00,  0.00000000e+00,  0.00000000e+00,\n",
      "         1.00000000e+00]]), (0.7558594, 0.7558594, 0.6))\u001b[0m\u001b[0m\n",
      "\u001b[96m[*] Save /DATA/NAS/datasets_processed/CT_spine/dataset-shockroom-without-fx/rawdata_fixed/sub-CTFU03465/ses-20190725/derivatives/sub-CTFU03465_ses-20190725_sequ-6_seg-oar-combined_msk.nii.gz as uint8\u001b[0m\u001b[0m\n"
     ]
    }
   ],
   "source": [
    "run_oar_segmentor(\"/DATA/NAS/datasets_processed/CT_spine/dataset-shockroom-without-fx/rawdata_fixed/sub-CTFU03465/ses-20190725/sub-CTFU03465_ses-20190725_sequ-6_ct.nii.gz\",keep_models_loaded=True,override=True)"
   ]
  },
  {
   "cell_type": "code",
   "execution_count": null,
   "metadata": {},
   "outputs": [],
   "source": []
  },
  {
   "cell_type": "code",
   "execution_count": null,
   "metadata": {},
   "outputs": [],
   "source": []
  },
  {
   "cell_type": "code",
   "execution_count": null,
   "metadata": {},
   "outputs": [],
   "source": []
  }
 ],
 "metadata": {
  "kernelspec": {
   "display_name": "py3.11",
   "language": "python",
   "name": "python3"
  },
  "language_info": {
   "codemirror_mode": {
    "name": "ipython",
    "version": 3
   },
   "file_extension": ".py",
   "mimetype": "text/x-python",
   "name": "python",
   "nbconvert_exporter": "python",
   "pygments_lexer": "ipython3",
   "version": "3.11.8"
  }
 },
 "nbformat": 4,
 "nbformat_minor": 2
}
