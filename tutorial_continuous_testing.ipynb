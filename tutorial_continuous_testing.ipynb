{
 "cells": [
  {
   "attachments": {},
   "cell_type": "markdown",
   "metadata": {
    "pycharm": {
     "name": "#%% md\n"
    }
   },
   "source": [
    "## continuous testing and integration\n"
   ]
  },
  {
   "attachments": {},
   "cell_type": "markdown",
   "metadata": {
    "pycharm": {
     "name": "#%% md\n"
    }
   },
   "source": [
    "## GIT\n",
    "https://pages.cms.hu-berlin.de/cms-webtech/gitlab-documentation/docs/git-befehle/\n",
    "\n",
    "Make a GIT repository in GitLab or GitHub. Clone it by copying the HTML tag. You can use the SSH tag, but you need to set a public-key first. With SSH you don't need to write your password every time.\n",
    "\n",
    "```\n",
    "git clone [HTML/SSH-link]\n",
    "```\n",
    "\n",
    "#### Fast publish:\n",
    "\n",
    "Setup the file \".gitignore\" where you list all files with you do not push evert to git. \n",
    "\n",
    "Like:\n",
    "- *.nii.gz\n",
    "- *.npz\n",
    "- *.jpg\n",
    "\n",
    "If you want to push such a file afterwards anyway use -f\n",
    "\n",
    "```\n",
    "git add filename.abc -f\n",
    "```\n",
    "\n",
    "Use \"git status\" to see what will be pushed\n",
    "\n",
    "If your git is behind you have to \"pull\" changes first. Read the pull message if the merge succeeded or not. If not, open the mentioned files in VSCode and solve the merge conflict. There will be a prompt.\n",
    "\n",
    "```\n",
    "git status\n",
    "git add -Av \n",
    "git commit -m \"useful commit message\"\n",
    "(git pull)\n",
    "git push\n",
    "```"
   ]
  },
  {
   "attachments": {},
   "cell_type": "markdown",
   "metadata": {
    "pycharm": {
     "name": "#%% md\n"
    }
   },
   "source": [
    "## Auto format\n",
    "\n",
    "To clean up spacings and make all things look nicer we use \"Black\" autoformat with line lenght = 120\n",
    "\n",
    "- Go to Settings / Einstellungen (strg + ,)\n",
    "- Type \"python format\" in the search\n",
    "- \"python format: Provider\" -> black\n",
    "- \"python formatting Black Args\" -> \"--line-length=120\"\n",
    "- Check the box on \"Format on save\"  (If you using a potato as computer, you may skip this. You can call it manully with Alt+Shift+F)\n",
    "\n",
    "VSCode will ask you to install black when you try to use it the first time. "
   ]
  },
  {
   "attachments": {},
   "cell_type": "markdown",
   "metadata": {
    "pycharm": {
     "name": "#%% md\n"
    }
   },
   "source": [
    "## Testing and coverage\n",
    "\n",
    "writing automatic test for functionally ensures than nothing accidentally breaks.\n",
    "\n",
    "- make a test folder \n",
    "- make python files with classes that inherent form unittest.TestCase\n",
    "- make methods that start with \"test_\"\n",
    "- Call 'python -m unittest' on the test folder to run all test. (or use VSCode tab)\n",
    "\n",
    "\n",
    "```python\n",
    "import unittest\n",
    "repeats = 20\n",
    "class Test_bids_file(unittest.TestCase):\n",
    "    def test_rescale(self):\n",
    "        for _ in range(repeats // 10):\n",
    "            msk, cent, order, sizes = get_nii(num_point=random.randint(1, 2))\n",
    "            cent = Centroids(order, cent)\n",
    "\n",
    "            axcode_start = get_random_ax_code()\n",
    "            msk.reorient_(axcode_start)\n",
    "\n",
    "            cdt = calc_centroids(msk)\n",
    "            voxel_spacing = (\n",
    "                random.choice([1, 1 / 2, 1 / 3, 1 / 4]),\n",
    "                random.choice([1, 1 / 2, 1 / 3, 1 / 4]),\n",
    "                random.choice([1, 1 / 2, 1 / 3, 1 / 4]),\n",
    "            )\n",
    "            voxel_spacing2 = (1.0, 1.0, 1.0)\n",
    "            msk2 = msk.rescale(voxel_spacing=voxel_spacing, verbose=False, inplace=False)\n",
    "            msk2 = msk2.rescale(voxel_spacing=voxel_spacing2, verbose=False)\n",
    "            cdt2 = calc_centroids(msk2)\n",
    "\n",
    "            for (k, v), (k2, v2) in zip(cdt.items(), cdt2.items()):\n",
    "                self.assertEqual(k, k2)\n",
    "                for v, v2 in zip(v, v2):\n",
    "                    self.assertAlmostEqual(v, v2)\n",
    "```\n",
    "\n",
    "\n",
    "Code coverage is the percent of lines that are called by the test. To see what lines are missing use this lines.\n",
    "```\n",
    "coverage run -m unittest\n",
    "coverage report\n",
    "coverage html\n",
    "```\n"
   ]
  },
  {
   "attachments": {},
   "cell_type": "markdown",
   "metadata": {
    "pycharm": {
     "name": "#%% md\n"
    }
   },
   "source": [
    "## Type hinting and auto-compleat."
   ]
  },
  {
   "attachments": {},
   "cell_type": "markdown",
   "metadata": {
    "pycharm": {
     "name": "#%% md\n"
    }
   },
   "source": [
    "## Dockstring"
   ]
  },
  {
   "attachments": {},
   "cell_type": "markdown",
   "metadata": {
    "pycharm": {
     "name": "#%% md\n"
    }
   },
   "source": [
    "## Profiling\n"
   ]
  },
  {
   "attachments": {},
   "cell_type": "markdown",
   "metadata": {
    "pycharm": {
     "name": "#%% md\n"
    }
   },
   "source": [
    "## Debug mode\n",
    "\n",
    "https://code.visualstudio.com/docs/editor/debugging"
   ]
  }
 ],
 "metadata": {
  "kernelspec": {
   "display_name": "py3.10",
   "language": "python",
   "name": "python3"
  },
  "language_info": {
   "codemirror_mode": {
    "name": "ipython",
    "version": 3
   },
   "file_extension": ".py",
   "mimetype": "text/x-python",
   "name": "python",
   "nbconvert_exporter": "python",
   "pygments_lexer": "ipython3",
   "version": "3.10.10"
  },
  "orig_nbformat": 4,
  "vscode": {
   "interpreter": {
    "hash": "856182c64741417959fd46a52606ac399fe54e69ad9697a20c4f35644f875db1"
   }
  }
 },
 "nbformat": 4,
 "nbformat_minor": 2
}
