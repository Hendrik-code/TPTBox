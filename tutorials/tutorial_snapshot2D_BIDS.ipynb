{
 "cells": [
  {
   "attachments": {},
   "cell_type": "markdown",
   "metadata": {
    "pycharm": {
     "name": "#%% md\n"
    }
   },
   "source": [
    "## Snapshot2D + BIDS\n",
    "\n",
    "This is an example that creates snapshots for a dataset with MRI (dixon) and CT."
   ]
  },
  {
   "cell_type": "code",
   "execution_count": null,
   "metadata": {
    "pycharm": {
     "name": "#%%\n"
    }
   },
   "outputs": [],
   "source": [
    "from TPTBox.snapshot2D import create_snapshot, Snapshot_Frame, Visualization_Type, Image_Modes\n",
    "from TPTBox import BIDS_Global_info, calc_centroids_labeled_buffered, Location\n",
    "from pathlib import Path\n",
    "from IPython.display import Image\n",
    "\n",
    "# Warning: This file loops over a whole dataset and makes snapshots\n",
    "dataset = Path(\"/media/data/robert/datasets/spine_transition_new/\")"
   ]
  },
  {
   "attachments": {},
   "cell_type": "markdown",
   "metadata": {
    "pycharm": {
     "name": "#%% md\n"
    }
   },
   "source": [
    "# Running the docker\n",
    "You must have installed the docker"
   ]
  },
  {
   "cell_type": "code",
   "execution_count": null,
   "metadata": {
    "pycharm": {
     "name": "#%%\n"
    }
   },
   "outputs": [],
   "source": [
    "from TPTBox import run_docker\n",
    "\n",
    "run_docker(dataset, verbose=True)"
   ]
  },
  {
   "attachments": {},
   "cell_type": "markdown",
   "metadata": {
    "pycharm": {
     "name": "#%% md\n"
    }
   },
   "source": [
    "# Loop over all files and make a snapshot (CT/MRI)"
   ]
  },
  {
   "cell_type": "code",
   "execution_count": null,
   "metadata": {
    "pycharm": {
     "name": "#%%\n"
    }
   },
   "outputs": [],
   "source": [
    "bids_global_object = BIDS_Global_info(\n",
    "    [dataset], [\"rawdata\", \"derivatives\"], additional_key=[\"sequ\", \"seg\", \"ovl\", \"e\"], verbose=True, clear=True\n",
    ")\n",
    "# First loop: Loop over subjects\n",
    "for subject_name, subject_container in bids_global_object.enumerate_subjects(sort=True):\n",
    "    ct_query = subject_container.new_query(flatten=True)\n",
    "    ct_query.filter(\"format\", \"ct\")\n",
    "    ct_query.filter(\"Filetype\", \"nii.gz\")\n",
    "    dixon_query = subject_container.new_query(flatten=True)\n",
    "    dixon_query.filter(\"format\", \"dixon\")\n",
    "    # dixon_query.flatten()\n",
    "    dixon_query.filter(\"Filetype\", \"nii.gz\")\n",
    "    dixon_query.filter(\"Filetype\", \"json\")\n",
    "    # .filter(\"json\", lamda) opens the json and gives it as an argument.\n",
    "    # \"IP\" is in the list with key \"ImageType\" in the json if and only if it is the inphase image\n",
    "    dixon_query.filter(\"json\", filter_fun=lambda x: \"IP\" in x[\"ImageType\"])  # type: ignore\n",
    "\n",
    "    # now we can loop over the CT files.\n",
    "    for ct in ct_query.loop_list():\n",
    "        for dixon in dixon_query.loop_list():\n",
    "            ct_family = ct.get_sequence_files()\n",
    "            vert = ct_family.get(\"msk_vert\", None)\n",
    "            subreg = ct_family.get(\"msk_subreg\", None)\n",
    "            vert = vert[0] if vert is not None else None\n",
    "            subreg = subreg[0] if subreg is not None else None\n",
    "            ctd = None\n",
    "            if vert is not None and subreg is not None:\n",
    "                ctd = calc_centroids_labeled_buffered(vert, subreg, subreg_id=Location.Vertebra_Corpus)\n",
    "\n",
    "            frames = [\n",
    "                Snapshot_Frame(dixon, mode=\"MRI\"),\n",
    "                Snapshot_Frame(ct, segmentation=vert, centroids=ctd, mode=\"CT\"),\n",
    "            ]  # without centroids\n",
    "            out_file1 = ct.get_changed_path(\"jpg\", format=\"snapshot\", parent=\"derivatives\")\n",
    "            out_file2 = ct.dataset / \"snapshots\" / out_file1.name\n",
    "            out_file2.parent.mkdir(exist_ok=True)\n",
    "            create_snapshot([out_file1, out_file2], frames)\n",
    "            # ct_frame = Snapshot_Frame(ct_file,segmentation=vert_file,centroids=ctd_file,sagittal=True,coronal=True,mode='CT')"
   ]
  },
  {
   "cell_type": "code",
   "execution_count": null,
   "metadata": {
    "pycharm": {
     "name": "#%%\n"
    }
   },
   "outputs": [],
   "source": [
    "dataset = Path(\"/media/data/new_NAKO/NAKO/MRT/\")\n",
    "\n",
    "bids_global_object = BIDS_Global_info(\n",
    "    [dataset], [\"rawdata_low_quality_ds\"], additional_key=[\"sequ\", \"seg\", \"ovl\", \"e\"], verbose=True, clear=True\n",
    ")\n",
    "# First loop: Loop over subjects\n",
    "files = []\n",
    "for subject_name, subject_container in bids_global_object.enumerate_subjects(sort=True):\n",
    "    t2_query = subject_container.new_query(flatten=True)\n",
    "    t2_query.filter(\"format\", \"T2w\")\n",
    "    # dixon_query.flatten()\n",
    "    t2_query.filter(\"Filetype\", \"nii.gz\")\n",
    "    # now we can loop over the CT files.\n",
    "    regions = {}\n",
    "    for t2w in t2_query.loop_list():\n",
    "        c = t2w.get(\"chunk\")\n",
    "        out_file1 = t2w.get_changed_path(\"jpg\", format=\"snapshot\", parent=\"derivatives\", make_parent=False)\n",
    "\n",
    "        if c in regions:\n",
    "            frames = [Snapshot_Frame(t2w, mode=\"MRI\"), Snapshot_Frame(regions[c], mode=\"MRI\")]  # without centroids\n",
    "            out_file2 = t2w.dataset / \"rawdata_low_quality_ds\" / \"snapshots_pairs\" / out_file1.name\n",
    "            out_file2.parent.mkdir(exist_ok=True)\n",
    "            create_snapshot([out_file2], frames)\n",
    "        regions[c] = t2w\n",
    "        frames = [Snapshot_Frame(t2w, mode=\"MRI\")]  # without centroids\n",
    "        out_file2 = t2w.dataset / \"rawdata_low_quality_ds\" / \"snapshots\" / out_file1.name\n",
    "        out_file2.parent.mkdir(exist_ok=True)\n",
    "        create_snapshot([out_file2], frames)\n",
    "\n",
    "\n",
    "print(files)"
   ]
  },
  {
   "cell_type": "code",
   "execution_count": null,
   "metadata": {
    "pycharm": {
     "name": "#%%\n"
    }
   },
   "outputs": [],
   "source": [
    "for l in files:\n",
    "    print(l)"
   ]
  },
  {
   "cell_type": "code",
   "execution_count": null,
   "metadata": {
    "pycharm": {
     "name": "#%%\n"
    }
   },
   "outputs": [],
   "source": []
  }
 ],
 "metadata": {
  "kernelspec": {
   "display_name": "py3.10",
   "language": "python",
   "name": "python3"
  },
  "language_info": {
   "codemirror_mode": {
    "name": "ipython",
    "version": 3
   },
   "file_extension": ".py",
   "mimetype": "text/x-python",
   "name": "python",
   "nbconvert_exporter": "python",
   "pygments_lexer": "ipython3",
   "version": "3.10.10"
  },
  "orig_nbformat": 4,
  "vscode": {
   "interpreter": {
    "hash": "856182c64741417959fd46a52606ac399fe54e69ad9697a20c4f35644f875db1"
   }
  }
 },
 "nbformat": 4,
 "nbformat_minor": 2
}
