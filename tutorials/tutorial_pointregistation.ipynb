{
 "cells": [
  {
   "attachments": {},
   "cell_type": "markdown",
   "metadata": {},
   "source": [
    "## Point Registration\n",
    "\n",
    "This tutorial shows you how to register 'nii' files with points. The points can be computed by segmentations like in Verse19.\n",
    "\n",
    "You can get the Verse19 data from:\n",
    "\n",
    "https://osf.io/nqjyw/\n",
    "\n",
    "We assume in this tutorial that you copied the \"dataset-verse19validation\" folder next to this file.\n"
   ]
  },
  {
   "cell_type": "code",
   "execution_count": 1,
   "metadata": {},
   "outputs": [],
   "source": [
    "from pathlib import Path\n",
    "from TPTBox.registration.ridged_points import ridged_points_from_subreg_vert\n",
    "from TPTBox import NII, POI, calc_centroids_from_subreg_vert\n",
    "from TPTBox.snapshot2D import Snapshot_Frame, create_snapshot\n",
    "from IPython.display import Image\n",
    "from TPTBox.core.nii_wrapper import to_nii"
   ]
  },
  {
   "attachments": {},
   "cell_type": "markdown",
   "metadata": {},
   "source": [
    "loading data"
   ]
  },
  {
   "cell_type": "code",
   "execution_count": 2,
   "metadata": {},
   "outputs": [
    {
     "name": "stdout",
     "output_type": "stream",
     "text": [
      "False /media/data/robert/datasets/dataset-neuropoly/rawdata_upscale/sub-m002126/ses-20100716/anat/sub-m002126_ses-20100716_acq-sag_desc-stitched_T2w.nii.gz\n",
      "False False\n",
      "/media/data/robert/datasets/dataset-neuropoly/derivatives_segnew/sub-m002126/ses-20100716/anat/sub-m002126_ses-20100716_sequ-stitched_acq-sag_mod-T2w_seg-spine_ctd.json\n"
     ]
    }
   ],
   "source": [
    "# TODO update paths\n",
    "ct1 = Path(\n",
    "    \"/media/data/robert/datasets/dataset-neuropoly/rawdata_upscale/sub-m002126/ses-20100716/anat/sub-m002126_ses-20100716_acq-sag_desc-stitched_T2w.nii.gz\"\n",
    ").absolute()\n",
    "ct2 = Path(\n",
    "    \"/media/data/robert/datasets/dataset-neuropoly/rawdata/sub-m002126/ses-20100716/anat/sub-m002126_ses-20100716_acq-ax_chunk-2_T2w.nii.gz\"\n",
    ").absolute()\n",
    "\n",
    "\n",
    "def to_poi(p: Path):\n",
    "    return Path(str(p).replace(\"rawdata\", \"derivatives\").replace(\"_seg-vert_msk.nii.gz\", \"_seg-spine_ctd.json\"))\n",
    "\n",
    "\n",
    "def to_subreg(p: Path):\n",
    "    return Path(str(p).replace(\"rawdata\", \"derivatives\").replace(\"_seg-vert_msk.nii.gz\", \"_seg-spine_msk.nii.gz\"))\n",
    "\n",
    "\n",
    "c1_vert = Path(\n",
    "    \"/media/data/robert/datasets/dataset-neuropoly/derivatives_segnew/sub-m002126/ses-20100716/anat/sub-m002126_ses-20100716_sequ-stitched_acq-sag_mod-T2w_seg-vert_msk.nii.gz\"\n",
    ")\n",
    "\n",
    "c2_vert = Path(\n",
    "    \"/media/data/robert/datasets/dataset-neuropoly/derivatives_ax/sub-m002126/ses-20100716/anat/sub-m002126_ses-20100716_acq-ax_chunk-2_mod-T2w_seg-vert_msk.nii.gz\"\n",
    ")\n",
    "\n",
    "c1_poi = to_poi(c1_vert)\n",
    "c2_poi = to_poi(c2_vert)\n",
    "c1_subreg = to_subreg(c1_vert)\n",
    "c2_subreg = to_subreg(c2_vert)\n",
    "print(ct1.exists(), ct1)\n",
    "print(c1_poi.exists(), c2_poi.exists())\n",
    "print(c1_poi)"
   ]
  },
  {
   "attachments": {},
   "cell_type": "markdown",
   "metadata": {},
   "source": [
    "### From Centroid or Points of Interest(POI) list\n",
    "\n",
    "We load the POIs form the json. It should have the following shape:\n",
    "```[\n",
    "    {\n",
    "        \"direction\": [\"P\",\"I\",\"R\"]\n",
    "    },\n",
    "    {\n",
    "        \"label\": 20, \"X\": 91.1,\"Y\": 40.0, \"Z\": 95.0\n",
    "    },\n",
    "    {\n",
    "        \"label\": 21, \"X\": 76.5,\"Y\": 68.1, \"Z\": 90.3\n",
    "    },\n",
    "    {\n",
    "        \"label\": 22, \"X\": 63.6,\"Y\": 101.2, \"Z\": 86.3\n",
    "    },\n",
    "    {\n",
    "        \"label\": 23, \"X\": 59.0,\"Y\": 136.8, \"Z\": 86.8\n",
    "    },\n",
    "    {\n",
    "        \"label\": 24, \"X\": 72.1,\"Y\": 166.6, \"Z\": 94.0\n",
    "    }\n",
    "]\n",
    "```\n",
    "\n",
    "where the coordinate are the local cords of the image"
   ]
  },
  {
   "cell_type": "code",
   "execution_count": null,
   "metadata": {},
   "outputs": [],
   "source": [
    "ct1_nii_org = to_nii(ct1, False)  # .resample_from_to(c1_vert)\n",
    "ct2_nii = to_nii(ct2, False).resample_from_to(c2_vert)\n",
    "c1_vert_nii_org = to_nii(c1_vert, True)"
   ]
  },
  {
   "cell_type": "code",
   "execution_count": null,
   "metadata": {},
   "outputs": [],
   "source": [
    "from TPTBox.core.nii_wrapper import to_nii\n",
    "\n",
    "orientation = (\"L\", \"A\", \"S\")\n",
    "zoom = (0.8571, 0.8571, 0.8571)\n",
    "c2_poi_ = calc_centroids_from_subreg_vert(c2_vert, c2_subreg, subreg_id=[50, 61])\n",
    "resample_filter = ridged_points_from_subreg_vert(\n",
    "    c2_poi_, c1_vert, c1_subreg, c1_poi, orientation=orientation, zoom=zoom, subreg_id=[50, 61], c_val=0, verbose=False\n",
    ")\n",
    "rep_moving_nii: NII = resample_filter.transform_nii(to_nii(ct2, False))\n",
    "rep_seg_moving_nii: NII = resample_filter.transform_nii(to_nii(c2_vert, True))\n",
    "rep_seg2_moving_nii: NII = resample_filter.transform_nii(to_nii(c2_subreg, True))\n",
    "poi_new = resample_filter.transform_poi(c2_poi_)\n",
    "\n",
    "c1_vert_iso = to_nii(c1_vert, True).rescale(zoom)\n",
    "p1 = POI.load(c1_poi).rescale(zoom).extract_subregion_(50, 61)\n",
    "c1_iso = to_nii(ct1, False).rescale(zoom)\n",
    "# calc crop\n",
    "# crop = rep_moving_nii.compute_crop()\n",
    "# crop = c1_iso.compute_crop(other_crop=crop)\n",
    "\n",
    "ct1_frame = Snapshot_Frame(c1_iso, segmentation=c1_vert_iso, centroids=p1)\n",
    "ct2_frame = Snapshot_Frame(rep_moving_nii, segmentation=rep_seg_moving_nii, centroids=p1)\n",
    "ct3_frame = Snapshot_Frame(to_nii(ct2, False).resample_from_to(rep_seg_moving_nii), segmentation=rep_seg_moving_nii, centroids=poi_new)\n",
    "ct_org_frame = Snapshot_Frame(\n",
    "    to_nii(ct2, False).resample_from_to(c1_iso), segmentation=c1_vert_iso, centroids=c2_poi_.resample_from_to(c1_iso)\n",
    ")\n",
    "create_snapshot(\"test.jpg\", [ct1_frame, ct2_frame, ct3_frame, ct_org_frame])\n",
    "Image(filename=\"test.jpg\")"
   ]
  },
  {
   "attachments": {},
   "cell_type": "markdown",
   "metadata": {},
   "source": [
    "# Cropping\n",
    "The moved images has some space unoccupied. We can remove non corresponding spaces by cropping"
   ]
  },
  {
   "cell_type": "code",
   "execution_count": null,
   "metadata": {},
   "outputs": [],
   "source": [
    "from TPTBox import to_nii, NII  # noqa: I001\n",
    "\n",
    "### OUTDATED ###\n",
    "\n",
    "# orientation = rep_moving_nii.orientation\n",
    "# zoom = rep_moving_nii.zoom\n",
    "\n",
    "\n",
    "# NII is a wrapper around nibabel\n",
    "ct1_nii = to_nii(ct1).reorient_(orientation).rescale_(zoom)\n",
    "ct2_nii = rep_moving_nii.copy()\n",
    "ct1_seg = to_nii(c1_vert, seg=True).reorient_(orientation).rescale_(zoom)\n",
    "ct2_seg = rep_seg_moving_nii.copy()\n",
    "assert ct1_nii.shape == ct2_nii.shape, (ct1_nii, ct2_nii)\n",
    "ex_slice_f = ct1_nii.compute_crop()\n",
    "shared_pixels = ct2_nii.compute_crop(other_crop=ex_slice_f)\n",
    "\n",
    "\n",
    "c1_poi_cropped = POI.load(c1_poi).reorient_(orientation).rescale_(zoom).apply_crop(shared_pixels)\n",
    "ct1_nii.apply_crop_(shared_pixels)\n",
    "ct2_nii.apply_crop_(shared_pixels)\n",
    "ct1_seg.apply_crop_(shared_pixels)\n",
    "ct2_seg.apply_crop_(shared_pixels)\n",
    "\n",
    "ct1_frame = Snapshot_Frame(ct1_nii, segmentation=ct1_seg, centroids=c1_poi_cropped)\n",
    "ct2_frame = Snapshot_Frame(ct2_nii, segmentation=ct2_seg, centroids=c1_poi_cropped)\n",
    "create_snapshot(\"test.jpg\", [ct1_frame, ct2_frame])\n",
    "Image(filename=\"test.jpg\")"
   ]
  },
  {
   "attachments": {},
   "cell_type": "markdown",
   "metadata": {},
   "source": [
    "## Computing Centroids from segmentation\n",
    "\n",
    "We can generate Centroids/POI by computing the Center Of Mass of Segmentation.\n",
    "\n",
    "Variant 1: Just using the segmentation"
   ]
  },
  {
   "cell_type": "code",
   "execution_count": null,
   "metadata": {},
   "outputs": [],
   "source": [
    "from TPTBox import calc_centroids\n",
    "\n",
    "ctd = calc_centroids(c1_vert, decimals=0)\n",
    "print(to_nii(c1_vert))\n",
    "print(\"orientation\", ctd.orientation)\n",
    "print(\"shape\", ctd.shape)\n",
    "print(\"zoom\", ctd.zoom)\n",
    "print(\"points\", ctd.keys())\n",
    "print(\"id 9\", ctd[9, 50])\n",
    "print(\"\\n\", ctd)"
   ]
  },
  {
   "attachments": {},
   "cell_type": "markdown",
   "metadata": {},
   "source": [
    "Variant 2: Segmentation and Subregion Segmentation\n",
    "\n",
    "If you have two files, where the second splits the other in smaller chunks you can use this variant. (Verse does not provide this...)"
   ]
  },
  {
   "cell_type": "code",
   "execution_count": null,
   "metadata": {},
   "outputs": [],
   "source": [
    "from TPTBox import calc_centroids_from_subreg_vert  # noqa: I001\n",
    "\n",
    "\n",
    "instance_nii = to_nii(c1_vert, seg=True)\n",
    "arr = instance_nii.get_array()\n",
    "arr[arr != 0] = 50\n",
    "subregion_nii = instance_nii.set_array(arr, inplace=False)\n",
    "\n",
    "ctd = calc_centroids_from_subreg_vert(instance_nii, subregion_nii, subreg_id=[50])\n",
    "print(ctd)\n",
    "print(list(ctd.items()))\n",
    "print(\"Note: the ids are subregion_ID*256 + segmentation id. Matching points MUST have the same ID\")"
   ]
  },
  {
   "cell_type": "code",
   "execution_count": null,
   "metadata": {},
   "outputs": [],
   "source": []
  },
  {
   "cell_type": "code",
   "execution_count": null,
   "metadata": {},
   "outputs": [],
   "source": []
  }
 ],
 "metadata": {
  "kernelspec": {
   "display_name": "py3.10",
   "language": "python",
   "name": "python3"
  },
  "language_info": {
   "codemirror_mode": {
    "name": "ipython",
    "version": 3
   },
   "file_extension": ".py",
   "mimetype": "text/x-python",
   "name": "python",
   "nbconvert_exporter": "python",
   "pygments_lexer": "ipython3",
   "version": "3.11.5"
  },
  "orig_nbformat": 4,
  "vscode": {
   "interpreter": {
    "hash": "856182c64741417959fd46a52606ac399fe54e69ad9697a20c4f35644f875db1"
   }
  }
 },
 "nbformat": 4,
 "nbformat_minor": 2
}
