{
 "cells": [
  {
   "attachments": {},
   "cell_type": "markdown",
   "metadata": {
    "collapsed": false
   },
   "source": [
    "## Using a Logger to log outputs\n"
   ]
  },
  {
   "cell_type": "code",
   "execution_count": 1,
   "metadata": {
    "ExecuteTime": {
     "end_time": "2023-04-17T16:32:52.826789Z",
     "start_time": "2023-04-17T16:32:52.695946Z"
    },
    "collapsed": false
   },
   "outputs": [],
   "source": [
    "from TPTBox.logger import log_file\n",
    "from TPTBox import Print_Logger"
   ]
  },
  {
   "attachments": {},
   "cell_type": "markdown",
   "metadata": {
    "collapsed": false
   },
   "source": [
    "## Create a Logger object.\n",
    "\n",
    "There are different options:\n",
    "- Logger(): logs into a log file and can also print it to the terminal\n",
    "- No_Logger(): only prints to the terminal, and does so by default\n",
    "- String_Logger(): logs to a string object, which can be accessed as member variable.\n",
    "\n",
    "Each Logger (except No_Logger) must be given a default_verbose setting, which determines whether a print() call is by default printed to the terminal or not.\n"
   ]
  },
  {
   "cell_type": "code",
   "execution_count": 2,
   "metadata": {
    "ExecuteTime": {
     "end_time": "2023-04-17T16:32:52.832049Z",
     "start_time": "2023-04-17T16:32:52.826895Z"
    },
    "collapsed": false
   },
   "outputs": [
    {
     "name": "stdout",
     "output_type": "stream",
     "text": [
      "\u001b[0m[*] Hello World\u001b[0m\u001b[0m\n"
     ]
    }
   ],
   "source": [
    "logger = Print_Logger()  # default_verbose is always True for No_logger()\n",
    "\n",
    "str_logger = log_file.String_Logger(default_verbose=False)\n",
    "\n",
    "logger.print(\"Hello World\")"
   ]
  },
  {
   "attachments": {},
   "cell_type": "markdown",
   "metadata": {
    "collapsed": false
   },
   "source": [
    "You can also determine whether any individual print() call is printed to the terminal by setting verbose=True/False"
   ]
  },
  {
   "cell_type": "code",
   "execution_count": 3,
   "metadata": {
    "ExecuteTime": {
     "end_time": "2023-04-17T16:32:52.912124Z",
     "start_time": "2023-04-17T16:32:52.832389Z"
    },
    "collapsed": false
   },
   "outputs": [
    {
     "name": "stdout",
     "output_type": "stream",
     "text": [
      "\u001b[0m[*] This is printed below even though default_verbose=False\u001b[0m\u001b[0m\n"
     ]
    }
   ],
   "source": [
    "logger.print(\"This is not printed below\", verbose=False)\n",
    "str_logger.print(\"This is printed below even though default_verbose=False\", verbose=True)"
   ]
  },
  {
   "attachments": {},
   "cell_type": "markdown",
   "metadata": {
    "collapsed": false
   },
   "source": [
    "## Sub Logger\n",
    "For parallel Tasks, you can define sub-loggers (which are string-logger) for each thread and combine them later.\n",
    "Logger() combines them automatically in the created log file. For a String_Logger(), close must be called."
   ]
  },
  {
   "cell_type": "code",
   "execution_count": 4,
   "metadata": {
    "ExecuteTime": {
     "end_time": "2023-04-17T16:32:53.004044Z",
     "start_time": "2023-04-17T16:32:52.912976Z"
    },
    "collapsed": false
   },
   "outputs": [
    {
     "name": "stdout",
     "output_type": "stream",
     "text": [
      "\u001b[0m[*] This is a log from sub logger 1\u001b[0m\u001b[0m\n",
      "\u001b[0m[*] The world is a disk!\u001b[0m\u001b[0m\n"
     ]
    }
   ],
   "source": [
    "sub1 = str_logger.add_sub_logger(\"sub1\", default_verbose=True)\n",
    "sub2 = str_logger.add_sub_logger(\"sub2\", default_verbose=True)\n",
    "\n",
    "sub1.print(\"This is a log from sub logger 1\")\n",
    "sub2.print(\"The world is a disk!\")"
   ]
  },
  {
   "cell_type": "code",
   "execution_count": 5,
   "metadata": {
    "ExecuteTime": {
     "end_time": "2023-04-17T16:32:53.093685Z",
     "start_time": "2023-04-17T16:32:53.004506Z"
    },
    "collapsed": false
   },
   "outputs": [
    {
     "name": "stdout",
     "output_type": "stream",
     "text": [
      "\u001b[0m\u001b[0m\u001b[0m\n",
      "\u001b[94m[#] Sub-process duration: 0:00:00 h:mm:ss\u001b[0m\u001b[0m\n",
      "\u001b[94m[#] Sub-process duration: 0:00:00 h:mm:ss\u001b[0m\u001b[0m\n",
      "\u001b[94m[#] Sub-process duration: 0:00:00 h:mm:ss\u001b[0m\u001b[0m\n",
      "\u001b[0m[*] This is printed below even though default_verbose=False\n",
      "\u001b[0m\u001b[0m\u001b[0m\n",
      "\u001b[0m\u001b[0m\u001b[94mFound 2 sub logger:\n",
      "\u001b[0m\u001b[0m\u001b[0m[#] Sub-logger:  sub1\n",
      "[*] This is a log from sub logger 1\n",
      "\n",
      "\u001b[0m\u001b[0m\u001b[0m[#] Sub-logger:  sub2\n",
      "[*] The world is a disk!\n",
      "\n",
      "\u001b[0m\u001b[0m\u001b[94m[#] Sub-process duration: 0:00:00 h:mm:ss\n",
      "\u001b[0m\u001b[0m\n"
     ]
    }
   ],
   "source": [
    "total_logged_content, total_logged_content_colored = str_logger.close()\n",
    "print(total_logged_content_colored)"
   ]
  },
  {
   "attachments": {},
   "cell_type": "markdown",
   "metadata": {
    "collapsed": false
   },
   "source": [
    "## Log Types:\n",
    "Blue text is reserverd for meta-text produced by the Log objects\n",
    "\n",
    "Logger support log_types:\n",
    "- TEXT (default)\n",
    "- WARNING (yellow)\n",
    "- WARNING_THROW (yellow, raises warning)\n",
    "- OK (green)\n",
    "- FAIL (red)\n",
    "- STRANGE (bold)\n",
    "- UNDERLINE (underlined)\n",
    "\n",
    "You can use them by setting the type parameter (e.g. type=Log_Type.Warning)\n",
    "If those messages are printed to the terminal, colors are used. One exception are sub-loggers, whose logged contents are used by the header-logger. Those are never colored."
   ]
  },
  {
   "cell_type": "code",
   "execution_count": 6,
   "metadata": {
    "ExecuteTime": {
     "end_time": "2023-04-17T16:32:53.225474Z",
     "start_time": "2023-04-17T16:32:53.093481Z"
    },
    "collapsed": false
   },
   "outputs": [
    {
     "name": "stdout",
     "output_type": "stream",
     "text": [
      "\u001b[0m[*] TEXT\u001b[0m\u001b[0m\n",
      "\u001b[0m[ ] NEUTRAL\u001b[0m\u001b[0m\n",
      "\u001b[96m[*] SAVE\u001b[0m\u001b[0m\n",
      "\u001b[93m[?] WARNING\u001b[0m\u001b[0m\n",
      "\u001b[94m[#] LOG\u001b[0m\u001b[0m\n",
      "\u001b[92m[+] OK\u001b[0m\u001b[0m\n",
      "\u001b[91m[!] FAIL\u001b[0m\u001b[0m\n",
      "\u001b[95m[-] STRANGE\u001b[0m\u001b[0m\n",
      "\u001b[4m[_] UNDERLINE\u001b[0m\u001b[0m\n",
      "\u001b[3m[ ] ITALICS\u001b[0m\u001b[0m\n",
      "\u001b[1m[*] BOLD\u001b[0m\u001b[0m\n",
      "\u001b[3m[Docker] DOCKER\u001b[0m\u001b[0m\n",
      "\u001b[3m[TOTALSEG] TOTALSEG\u001b[0m\u001b[0m\n"
     ]
    },
    {
     "name": "stderr",
     "output_type": "stream",
     "text": [
      "####################################\n",
      "/DATA/NAS/ongoing_projects/hendrik/transitional_vertebra/code/bids/BIDS/logger/log_file.py:356: Warning: \u001b[93m[?] WARNING_THROW\u001b[0m\u001b[0m\n",
      "  warnings.warn(color_log_text(c=type, text=text), Warning)\n",
      "  File \"/opt/anaconda3/envs/tvenv/lib/python3.10/runpy.py\", line 196, in _run_module_as_main\n",
      "    return _run_code(code, main_globals, None,\n",
      "  File \"/opt/anaconda3/envs/tvenv/lib/python3.10/runpy.py\", line 86, in _run_code\n",
      "    exec(code, run_globals)\n",
      "  File \"/opt/anaconda3/envs/tvenv/lib/python3.10/site-packages/ipykernel_launcher.py\", line 17, in <module>\n",
      "    app.launch_new_instance()\n",
      "  File \"/opt/anaconda3/envs/tvenv/lib/python3.10/site-packages/traitlets/config/application.py\", line 1043, in launch_instance\n",
      "    app.start()\n",
      "  File \"/opt/anaconda3/envs/tvenv/lib/python3.10/site-packages/ipykernel/kernelapp.py\", line 724, in start\n",
      "    self.io_loop.start()\n",
      "  File \"/opt/anaconda3/envs/tvenv/lib/python3.10/site-packages/tornado/platform/asyncio.py\", line 215, in start\n",
      "    self.asyncio_loop.run_forever()\n",
      "  File \"/opt/anaconda3/envs/tvenv/lib/python3.10/asyncio/base_events.py\", line 603, in run_forever\n",
      "    self._run_once()\n",
      "  File \"/opt/anaconda3/envs/tvenv/lib/python3.10/asyncio/base_events.py\", line 1906, in _run_once\n",
      "    handle._run()\n",
      "  File \"/opt/anaconda3/envs/tvenv/lib/python3.10/asyncio/events.py\", line 80, in _run\n",
      "    self._context.run(self._callback, *self._args)\n",
      "  File \"/opt/anaconda3/envs/tvenv/lib/python3.10/site-packages/ipykernel/kernelbase.py\", line 512, in dispatch_queue\n",
      "    await self.process_one()\n",
      "  File \"/opt/anaconda3/envs/tvenv/lib/python3.10/site-packages/ipykernel/kernelbase.py\", line 501, in process_one\n",
      "    await dispatch(*args)\n",
      "  File \"/opt/anaconda3/envs/tvenv/lib/python3.10/site-packages/ipykernel/kernelbase.py\", line 408, in dispatch_shell\n",
      "    await result\n",
      "  File \"/opt/anaconda3/envs/tvenv/lib/python3.10/site-packages/ipykernel/kernelbase.py\", line 731, in execute_request\n",
      "    reply_content = await reply_content\n",
      "  File \"/opt/anaconda3/envs/tvenv/lib/python3.10/site-packages/ipykernel/ipkernel.py\", line 417, in do_execute\n",
      "    res = shell.run_cell(\n",
      "  File \"/opt/anaconda3/envs/tvenv/lib/python3.10/site-packages/ipykernel/zmqshell.py\", line 540, in run_cell\n",
      "    return super().run_cell(*args, **kwargs)\n",
      "  File \"/opt/anaconda3/envs/tvenv/lib/python3.10/site-packages/IPython/core/interactiveshell.py\", line 3006, in run_cell\n",
      "    result = self._run_cell(\n",
      "  File \"/opt/anaconda3/envs/tvenv/lib/python3.10/site-packages/IPython/core/interactiveshell.py\", line 3061, in _run_cell\n",
      "    result = runner(coro)\n",
      "  File \"/opt/anaconda3/envs/tvenv/lib/python3.10/site-packages/IPython/core/async_helpers.py\", line 129, in _pseudo_sync_runner\n",
      "    coro.send(None)\n",
      "  File \"/opt/anaconda3/envs/tvenv/lib/python3.10/site-packages/IPython/core/interactiveshell.py\", line 3266, in run_cell_async\n",
      "    has_raised = await self.run_ast_nodes(code_ast.body, cell_name,\n",
      "  File \"/opt/anaconda3/envs/tvenv/lib/python3.10/site-packages/IPython/core/interactiveshell.py\", line 3445, in run_ast_nodes\n",
      "    if await self.run_code(code, result, async_=asy):\n",
      "  File \"/opt/anaconda3/envs/tvenv/lib/python3.10/site-packages/IPython/core/interactiveshell.py\", line 3505, in run_code\n",
      "    exec(code_obj, self.user_global_ns, self.user_ns)\n",
      "  File \"/tmp/ipykernel_2788102/346725206.py\", line 4, in <module>\n",
      "    logger.print(t.name, type=t)\n",
      "  File \"/DATA/NAS/ongoing_projects/hendrik/transitional_vertebra/code/bids/BIDS/logger/log_file.py\", line 48, in print\n",
      "    print_to_terminal(string, end=end, type=type)\n",
      "  File \"/DATA/NAS/ongoing_projects/hendrik/transitional_vertebra/code/bids/BIDS/logger/log_file.py\", line 356, in print_to_terminal\n",
      "    warnings.warn(color_log_text(c=type, text=text), Warning)\n",
      "####################################\n"
     ]
    }
   ],
   "source": [
    "from TPTBox.logger.log_constants import Log_Type\n",
    "\n",
    "for t in Log_Type:\n",
    "    logger.print(t.name, type=t)\n",
    "\n",
    "# The Log_Type WARNING_THROW raises an actual warning..."
   ]
  },
  {
   "cell_type": "markdown",
   "metadata": {},
   "source": [
    "We can also print errors with the Logger objects:"
   ]
  },
  {
   "cell_type": "code",
   "execution_count": 7,
   "metadata": {
    "ExecuteTime": {
     "end_time": "2023-04-17T16:32:53.225641Z",
     "start_time": "2023-04-17T16:32:53.225394Z"
    },
    "collapsed": false
   },
   "outputs": [
    {
     "name": "stdout",
     "output_type": "stream",
     "text": [
      "\u001b[91m[!] Traceback (most recent call last):\n",
      "  File \"/tmp/ipykernel_2788102/445486022.py\", line 2, in <module>\n",
      "    a = 5 / 0\n",
      "ZeroDivisionError: division by zero\n",
      "\u001b[0m\u001b[0m\n"
     ]
    }
   ],
   "source": [
    "try:\n",
    "    a = 5 / 0\n",
    "except Exception:\n",
    "    logger.print_error()"
   ]
  },
  {
   "cell_type": "markdown",
   "metadata": {},
   "source": [
    "Some special datatypes are also supported. Dictionaries are automatically converted to a suitable string and put into the output"
   ]
  },
  {
   "cell_type": "code",
   "execution_count": 8,
   "metadata": {},
   "outputs": [
    {
     "name": "stdout",
     "output_type": "stream",
     "text": [
      "\u001b[0m[*] { \u001b[4m'foo'\u001b[0m\u001b[0m: 'Hello';   \u001b[4m'bar'\u001b[0m\u001b[0m: 'World!';   \u001b[4m'int'\u001b[0m\u001b[0m: 0;   \u001b[4m'float'\u001b[0m\u001b[0m: 1.75;  }\u001b[0m\u001b[0m\n",
      "\u001b[0m[*] Example dict = { \u001b[4m'foo'\u001b[0m\u001b[0m: 'Hello';   \u001b[4m'bar'\u001b[0m\u001b[0m: 'World!';   \u001b[4m'int'\u001b[0m\u001b[0m: 0;   \u001b[4m'float'\u001b[0m\u001b[0m: 1.75;  } \n",
      "Nice, right?\u001b[0m\u001b[0m\n"
     ]
    }
   ],
   "source": [
    "example_dict: dict = {\"foo\": \"Hello\", \"bar\": \"World!\", \"int\": 0, \"float\": 1.75}\n",
    "\n",
    "logger.print(example_dict)\n",
    "# This can also be embedded with text\n",
    "logger.print(\"Example dict =\", example_dict, \"\\nNice, right?\")"
   ]
  },
  {
   "cell_type": "code",
   "execution_count": 1,
   "metadata": {},
   "outputs": [
    {
     "ename": "NameError",
     "evalue": "name 'logger' is not defined",
     "output_type": "error",
     "traceback": [
      "\u001b[0;31m---------------------------------------------------------------------------\u001b[0m",
      "\u001b[0;31mNameError\u001b[0m                                 Traceback (most recent call last)",
      "Cell \u001b[0;32mIn[1], line 2\u001b[0m\n\u001b[1;32m      1\u001b[0m \u001b[38;5;66;03m# You can use short hands instead of Log_Typ\u001b[39;00m\n\u001b[0;32m----> 2\u001b[0m \u001b[43mlogger\u001b[49m\u001b[38;5;241m.\u001b[39mon_debug(\u001b[38;5;124m\"\u001b[39m\u001b[38;5;124mDebug\u001b[39m\u001b[38;5;124m\"\u001b[39m)\n\u001b[1;32m      3\u001b[0m logger\u001b[38;5;241m.\u001b[39mon_debug(\u001b[38;5;124m\"\u001b[39m\u001b[38;5;124mDebug\u001b[39m\u001b[38;5;124m\"\u001b[39m)\n\u001b[1;32m      4\u001b[0m logger\u001b[38;5;241m.\u001b[39mon_debug(\u001b[38;5;124m\"\u001b[39m\u001b[38;5;124mDebug\u001b[39m\u001b[38;5;124m\"\u001b[39m)\n",
      "\u001b[0;31mNameError\u001b[0m: name 'logger' is not defined"
     ]
    }
   ],
   "source": [
    "# You can use short hands instead of Log_Typ\n",
    "logger.on_debug(\"Debug\")\n",
    "logger.on_fail(\"Fail\")\n",
    "logger.on_neutral(\"Neutral\")\n",
    "logger.on_save(\"Saved: Nothing\")\n",
    "logger.on_warning(\"Warning\")\n",
    "logger.on_ok(\"OK\")"
   ]
  },
  {
   "cell_type": "code",
   "execution_count": null,
   "metadata": {},
   "outputs": [],
   "source": []
  }
 ],
 "metadata": {
  "kernelspec": {
   "display_name": "Python 3",
   "language": "python",
   "name": "python3"
  },
  "language_info": {
   "codemirror_mode": {
    "name": "ipython",
    "version": 3
   },
   "file_extension": ".py",
   "mimetype": "text/x-python",
   "name": "python",
   "nbconvert_exporter": "python",
   "pygments_lexer": "ipython3",
   "version": "3.11.8"
  }
 },
 "nbformat": 4,
 "nbformat_minor": 0
}
