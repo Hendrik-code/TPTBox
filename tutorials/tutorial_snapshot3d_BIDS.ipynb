{
 "cells": [
  {
   "cell_type": "markdown",
   "metadata": {
    "collapsed": false
   },
   "source": [
    "## Create 3d models and snapshots with BIDS"
   ]
  },
  {
   "cell_type": "code",
   "execution_count": null,
   "metadata": {
    "collapsed": false
   },
   "outputs": [],
   "source": [
    "import TPTBox.core.bids_files as bids\n",
    "from TPTBox.snapshot3D import snapshot_subreg_3d\n",
    "from TPTBox.core import bids_utils"
   ]
  },
  {
   "cell_type": "code",
   "execution_count": null,
   "metadata": {
    "collapsed": false
   },
   "outputs": [],
   "source": [
    "# making the bids dataset\n",
    "in_path = \"D:\\Repositories\\Work/transitional_vertebra\\data\\data_tv/fxclass\"\n",
    "bids_ds = bids.BIDS_Global_info(\n",
    "    datasets=[in_path], parents=[\"rawdata\", \"derivatives\", \"cutout\"], additional_key=[\"snp\", \"ovl\"], verbose=False\n",
    ")"
   ]
  },
  {
   "cell_type": "code",
   "execution_count": null,
   "metadata": {
    "collapsed": false
   },
   "outputs": [],
   "source": [
    "# iterate over subjects\n",
    "for name, sample in bids_ds.enumerate_subjects(sort=True):\n",
    "    # enforce a list of families\n",
    "    if isinstance(sample, bids.BIDS_Family):\n",
    "        families = [sample]\n",
    "    else:\n",
    "        families = bids_utils.filter_ct_2_family(name, sample, False)\n",
    "    if families is None:\n",
    "        continue\n",
    "    for family in families:\n",
    "        # get the bids_file for the segmentations\n",
    "        vert_ref = family.get(\"msk_seg-vert\")\n",
    "        subreg_ref = family.get(\"msk_seg-subreg\")\n",
    "\n",
    "        # if at least one of them is not available, skip the sample\n",
    "        if vert_ref is None or subreg_ref is None:\n",
    "            print(f\"Did not find vert_msk, and/or subreg_msk, in sample {name}, {family.get_key_len()}\")\n",
    "            continue\n",
    "        # check centroid jsons\n",
    "        ctd_vert = family.get([\"ctd_vert\", \"ctd_subreg\"], None)\n",
    "        if ctd_vert is None:\n",
    "            print(f\"skipped due to missing json centroid, only got {family.get_key_len()}\")\n",
    "            continue\n",
    "\n",
    "        # call the make subregion_3d_and_snapshot function\n",
    "        # it automatically saves the individual 3d models of the vertebra as well as the combined snapshot\n",
    "        snapshot_subreg_3d.make_subregion_3d_and_snapshot(\n",
    "            vert_ref[0],  # the vertebra_mask_bids_file\n",
    "            sub_ref=subreg_ref[0],  # the bids_file for the subregion segmentation\n",
    "            vert_idx_list=[18, 19, 28, 20, 21],  # which vertebra indices (e.g. 18 = T11) it should take into account\n",
    "            verbose=False,\n",
    "            save_combined_model=True,  # whether a combined model of the vertebra is saved\n",
    "            save_individual_snapshots=True,  # wheter snapshots of the individual subregion segmentations should be saved\n",
    "        )\n",
    "    break\n",
    "    print(\"Finished\")"
   ]
  },
  {
   "cell_type": "code",
   "execution_count": null,
   "metadata": {
    "collapsed": false
   },
   "outputs": [],
   "source": [
    "# Visualize the snaps in code via Image package\n",
    "input_snap = \"D:/Repositories/Work/transitional_vertebra/data/data_tv/fxclass/derivatives/ctfu00006/ses-20120920/sub-ctfu00006_ses-20120920_seg-subreg_vertebra-T11-L2_snapshot.png\"\n",
    "from IPython.display import Image\n",
    "\n",
    "pil_img = Image(filename=input_snap)\n",
    "display(pil_img)"
   ]
  }
 ],
 "metadata": {
  "kernelspec": {
   "display_name": "Python 3",
   "language": "python",
   "name": "python3"
  },
  "language_info": {
   "codemirror_mode": {
    "name": "ipython",
    "version": 2
   },
   "file_extension": ".py",
   "mimetype": "text/x-python",
   "name": "python",
   "nbconvert_exporter": "python",
   "pygments_lexer": "ipython2",
   "version": "2.7.6"
  }
 },
 "nbformat": 4,
 "nbformat_minor": 0
}
