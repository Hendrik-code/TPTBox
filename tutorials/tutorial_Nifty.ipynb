{
 "cells": [
  {
   "cell_type": "markdown",
   "metadata": {
    "collapsed": false
   },
   "source": [
    "# Nifty File Format\n",
    "\n",
    "Nifty (Neuroimaging Informatics Technology Initiative) is a file format to handle neuro images.\n",
    "One nifty object contains:\n",
    "- N-D array containing the image data (think of it as numpy array)\n",
    "- (4,4) affine matrix mapping array coordinates to coordinates in some world space\n",
    "- metadata in form of a header\n",
    "\n",
    "Common package to use niftys is nibabel\n",
    "\n",
    "The BIDS Toolbox also has a NII_Wrapper, that should be used instead of nibabel directly."
   ]
  },
  {
   "cell_type": "code",
   "execution_count": 1,
   "metadata": {
    "ExecuteTime": {
     "end_time": "2023-04-18T14:46:13.013055Z",
     "start_time": "2023-04-18T14:46:12.880476Z"
    },
    "collapsed": false
   },
   "outputs": [],
   "source": [
    "# Lets build a simple nifty ourselves\n",
    "import numpy as np\n",
    "import nibabel as nib\n",
    "\n",
    "import TPTBox\n",
    "from TPTBox import *\n",
    "\n",
    "test_data_arr = np.random.random(size=(30, 20, 10))  # for test: generate arbitrary image data\n",
    "\n",
    "nibabel_nifty = nib.Nifti1Image(\n",
    "    dataobj=test_data_arr, affine=np.eye(4)\n",
    ")  # creating a nifty; Never do this in production. Always keep a real affine!\n",
    "\n",
    "bids_nii = TPTBox.NII(nibabel_nifty)  # now we have a NII in the BIDS toolbox"
   ]
  },
  {
   "cell_type": "markdown",
   "metadata": {
    "collapsed": false
   },
   "source": [
    "## Read, Write Niftys\n",
    "\n",
    "Normally, you would load the NII directly from a BIDS_File by using bids_file.open_nii()\n",
    "\n",
    "You can use NII as a smart data container\n",
    "- get_array() gives you the nifty image data as numpy array\n",
    "- shape() gives you the dimensions of the image data\n",
    "- header(), affine() returns the nifty header, affine matrix\n",
    "- zoom() returns the resolution of the dimensions (so zoom of (1,1,3) means that in the first dimensions, one pixel stands for 1mm in real life, 3 means one pixel stands for 3mm. Lower values -> better resolution)\n",
    "- there are also setter functions for the array, ...\n",
    "\n",
    "You can save nifty as a .nii.gz on the disk by calling:\n",
    "- save(file: str | Path)"
   ]
  },
  {
   "cell_type": "code",
   "execution_count": 2,
   "metadata": {
    "ExecuteTime": {
     "end_time": "2023-04-18T14:46:13.017793Z",
     "start_time": "2023-04-18T14:46:13.012435Z"
    },
    "collapsed": false
   },
   "outputs": [
    {
     "name": "stdout",
     "output_type": "stream",
     "text": [
      "shape (30, 20, 10)\n",
      "zoom (1.0, 1.0, 1.0)\n"
     ]
    }
   ],
   "source": [
    "print(\"shape\", bids_nii.shape)\n",
    "print(\n",
    "    \"zoom\", bids_nii.zoom\n",
    ")  # of course this is (1,1,1) because as we constructed it from scratch, it doesnt know its zoom and uses isometric space as default. If you load niftys, these number differ"
   ]
  },
  {
   "cell_type": "markdown",
   "metadata": {
    "collapsed": false
   },
   "source": [
    "## Orientation\n",
    "\n",
    "All NIIs have a orientation member variable.\n",
    "Those are axcodes that represent the positive direction of the axes.\n",
    "- L: Left\n",
    "- R: Right\n",
    "- S: Superior (up)\n",
    "- I: Inferior (down)\n",
    "- A: Anterior (front)\n",
    "- P: Posterior (back)"
   ]
  },
  {
   "cell_type": "code",
   "execution_count": 3,
   "metadata": {
    "ExecuteTime": {
     "end_time": "2023-04-18T14:46:13.094084Z",
     "start_time": "2023-04-18T14:46:13.020966Z"
    },
    "collapsed": false
   },
   "outputs": [
    {
     "name": "stdout",
     "output_type": "stream",
     "text": [
      "orientation ('R', 'A', 'S')\n"
     ]
    }
   ],
   "source": [
    "print(\"orientation\", bids_nii.orientation)\n",
    "# This means that the first dimension of the image data array stands for the left/right axis with positive ax coordinates going to the Right, ..."
   ]
  },
  {
   "attachments": {},
   "cell_type": "markdown",
   "metadata": {
    "collapsed": false
   },
   "source": [
    "## Manipulate Nifty\n",
    "\n",
    "Sometimes, it is vital to resample nifty into isotropic (1,1,1) space.\n",
    "This can be done with nifty.rescale()\n",
    "\n",
    "Important functions are:\n",
    "- rescale(voxel_spacing: tuple(float, float, float)) # Rescales the image date to the given resolution\n",
    "- reorient(axcodes_to: Ax_Codes) # Reorients the data to the given ax codes (see orientation above)\n",
    "- extract_label(label: int) # returns a new array that only contains the given label (useful for segmentations)\n",
    "\n",
    "- compute_crop_slice() # is used to compute a bounding box around the used space of the image data\n",
    "- apply_crop_slice() # is used after compute_crop_slice() to perform the actual cutout of the bounding box\n",
    "\n",
    "Functions could exist both with and without a \"_\" at the end. The \"_\" version is the inplace variant (will directly modify that object).\n",
    "Example:\n",
    "\n",
    "nii.rescale((\"P\", \"I\", \"R\")) returns a rescaled copy of the array, while\n",
    "\n",
    "nii.rescale_((\"P\", \"I\", \"R\")) modifies the nii object directly, rescaling it."
   ]
  },
  {
   "cell_type": "code",
   "execution_count": 4,
   "metadata": {
    "ExecuteTime": {
     "end_time": "2023-04-18T14:46:13.185603Z",
     "start_time": "2023-04-18T14:46:13.095205Z"
    },
    "collapsed": false
   },
   "outputs": [
    {
     "name": "stdout",
     "output_type": "stream",
     "text": [
      "[*] Image resampled from (1.0, 1.0, 1.0) to voxel size  [2, 1, 1]\n",
      "zoom (2.0, 1.0, 1.0)\n",
      "shape (15, 20, 10)\n",
      "[*] Image reoriented from ('R', 'A', 'S') to ('P', 'I', 'R')\n",
      "orientation ('P', 'I', 'R')\n",
      "shape (20, 10, 15)\n"
     ]
    }
   ],
   "source": [
    "bids_nii.rescale_((2, 1, 1), verbose=True)\n",
    "print(\"zoom\", bids_nii.zoom)\n",
    "# Of course if we change the zoom (resolution), the shape changes with it\n",
    "print(\"shape\", bids_nii.shape)\n",
    "\n",
    "bids_nii.reorient_((\"P\", \"I\", \"R\"), verbose=True)  # nearly all functions have a verbose parameter...\n",
    "print(\"orientation\", bids_nii.orientation)\n",
    "print(\"shape\", bids_nii.shape)"
   ]
  },
  {
   "attachments": {},
   "cell_type": "markdown",
   "metadata": {},
   "source": [
    "# Cropping empty space"
   ]
  },
  {
   "cell_type": "code",
   "execution_count": 5,
   "metadata": {},
   "outputs": [
    {
     "data": {
      "text/plain": [
       "<BIDS.nii_wrapper.NII at 0x7fb91556cb20>"
      ]
     },
     "execution_count": 5,
     "metadata": {},
     "output_type": "execute_result"
    }
   ],
   "source": [
    "crop = bids_nii.compute_crop_slice(dist=10)\n",
    "small_nii = bids_nii.apply_crop_slice(crop)\n",
    "# do something with small_nii\n",
    "# ...\n",
    "# Save back to big array\n",
    "arr = bids_nii.get_array()\n",
    "arr[crop] = small_nii.get_array()\n",
    "bids_nii.set_array(arr, inplace=True)"
   ]
  },
  {
   "cell_type": "code",
   "execution_count": null,
   "metadata": {},
   "outputs": [],
   "source": []
  },
  {
   "cell_type": "markdown",
   "metadata": {},
   "source": [
    "# NII\n",
    "## Summary\n",
    "The `NII` class represents a NIfTI image and provides various methods for manipulating and analyzing the image data.\n",
    "\n",
    "## Example Usage\n",
    "```python\n",
    "# Create a NII object from a NIfTI file\n",
    "nii = NII(nib.load('image.nii.gz'))\n",
    "\n",
    "# Access the shape of the image\n",
    "shape = nii.shape\n",
    "\n",
    "# Rescale the image to a new voxel spacing\n",
    "rescaled = nii.rescale(voxel_spacing=(2, 2, 2))\n",
    "\n",
    "# Save the rescaled image to a new file\n",
    "rescaled.save('rescaled_image.nii.gz')\n",
    "```\n",
    "\n",
    "## Code Analysis\n",
    "### Main functionalities\n",
    "- Loading and saving NIfTI images\n",
    "- Accessing image properties such as shape, data type, header, affine transformation, orientation, zoom, and origin\n",
    "- Reorienting the image to a desired orientation\n",
    "- Rescaling the image to a new voxel spacing\n",
    "- Applying a crop slice to the image\n",
    "- Setting the image array to a new array\n",
    "- Eroding and dilating binary segmentation masks\n",
    "- Filling holes in segmentation masks\n",
    "- Mapping labels to new values\n",
    "- Computing the intersection volume between two images\n",
    "___\n",
    "### Methods\n",
    "- `load`: Loads a NIfTI image from a file path\n",
    "- `load_bids`: Loads a NIfTI image from a BIDS file object\n",
    "- `shape`: Returns the shape of the image\n",
    "- `dtype`: Returns the data type of the image\n",
    "- `header`: Returns the header of the image\n",
    "- `affine`: Returns the affine transformation matrix of the image\n",
    "- `orientation`: Returns the orientation of the image\n",
    "- `zoom`: Returns the zoom values of the image\n",
    "- `origin`: Returns the origin coordinates of the image\n",
    "- `rotation`: Returns the rotation matrix of the image\n",
    "- `get_c_val`: Returns the contrast value of the image\n",
    "- `get_seg_array`: Returns the segmentation array of the image\n",
    "- `get_array`: Returns the image array\n",
    "- `set_array`: Sets the image array to a new array\n",
    "- `reorient`: Reorients the image to a desired orientation\n",
    "- `compute_crop_slice`: Computes the minimum slice to crop the image\n",
    "- `apply_crop_slice`: Applies a crop slice to the image\n",
    "- `rescale`: Rescales the image to a new voxel spacing\n",
    "- `resample_from_to`: Resamples the image to the voxel mapping of another image\n",
    "- `n4_bias_field_correction`: Performs N4 bias field correction on the image\n",
    "- `match_histograms`: Matches the histogram of the image to a reference image\n",
    "- `get_plane`: Determines the orientation plane of the image\n",
    "- `erode_msk`: Erodes the binary segmentation mask\n",
    "- `dilate_msk`: Dilates the binary segmentation mask\n",
    "- `fill_holes`: Fills holes in the segmentation mask\n",
    "- `map_labels`: Maps labels in the segmentation mask to new values\n",
    "- `unique`: Returns the unique labels in the segmentation mask\n",
    "- `volumes`: Computes the volumes of the labels in the segmentation mask\n",
    "- `extract_label`: Extracts a single label from the segmentation mask\n",
    "- `remove_labels`: Removes specified labels from the segmentation mask\n",
    "- `apply_mask`: Applies a mask to the image\n",
    "- `multiply`: Multiplies the image by a scalar value\n",
    "- `save`: Saves the image to a NIfTI file\n",
    "___\n",
    "### Fields\n",
    "- `nii`: The NIfTI image object\n",
    "- `seg`: A boolean indicating whether the image is a segmentation mask\n",
    "- `c_val`: The contrast value of the image\n",
    "___\n"
   ]
  }
 ],
 "metadata": {
  "kernelspec": {
   "display_name": "Python 3",
   "language": "python",
   "name": "python3"
  },
  "language_info": {
   "codemirror_mode": {
    "name": "ipython",
    "version": 3
   },
   "file_extension": ".py",
   "mimetype": "text/x-python",
   "name": "python",
   "nbconvert_exporter": "python",
   "pygments_lexer": "ipython3",
   "version": "3.10.10"
  }
 },
 "nbformat": 4,
 "nbformat_minor": 0
}
