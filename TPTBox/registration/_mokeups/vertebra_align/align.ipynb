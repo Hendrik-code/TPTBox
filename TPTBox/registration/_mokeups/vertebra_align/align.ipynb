{
 "cells": [
  {
   "cell_type": "code",
   "execution_count": 1,
   "metadata": {},
   "outputs": [
    {
     "ename": "FileNotFoundError",
     "evalue": "No such file or no access: 'vertebra_align/subreg.nii.gz'",
     "output_type": "error",
     "traceback": [
      "\u001b[0;31m---------------------------------------------------------------------------\u001b[0m",
      "\u001b[0;31mFileNotFoundError\u001b[0m                         Traceback (most recent call last)",
      "File \u001b[0;32m/usr/local/lib/python3.10/dist-packages/nibabel/loadsave.py:90\u001b[0m, in \u001b[0;36mload\u001b[0;34m(filename, **kwargs)\u001b[0m\n\u001b[1;32m     89\u001b[0m \u001b[39mtry\u001b[39;00m:\n\u001b[0;32m---> 90\u001b[0m     stat_result \u001b[39m=\u001b[39m os\u001b[39m.\u001b[39;49mstat(filename)\n\u001b[1;32m     91\u001b[0m \u001b[39mexcept\u001b[39;00m \u001b[39mOSError\u001b[39;00m:\n",
      "\u001b[0;31mFileNotFoundError\u001b[0m: [Errno 2] No such file or directory: 'vertebra_align/subreg.nii.gz'",
      "\nDuring handling of the above exception, another exception occurred:\n",
      "\u001b[0;31mFileNotFoundError\u001b[0m                         Traceback (most recent call last)",
      "\u001b[1;32m/media/data/robert/code/bids/vertebra_align/align.ipynb Zelle 1\u001b[0m in \u001b[0;36m<cell line: 15>\u001b[0;34m()\u001b[0m\n\u001b[1;32m     <a href='vscode-notebook-cell:/media/data/robert/code/bids/vertebra_align/align.ipynb#W0sZmlsZQ%3D%3D?line=11'>12</a>\u001b[0m \u001b[39mfrom\u001b[39;00m \u001b[39mnii_utils\u001b[39;00m \u001b[39mimport\u001b[39;00m calc_centroids, centroids_to_dict\n\u001b[1;32m     <a href='vscode-notebook-cell:/media/data/robert/code/bids/vertebra_align/align.ipynb#W0sZmlsZQ%3D%3D?line=12'>13</a>\u001b[0m \u001b[39mimport\u001b[39;00m \u001b[39mnibabel\u001b[39;00m \u001b[39mas\u001b[39;00m \u001b[39mnib\u001b[39;00m\n\u001b[0;32m---> <a href='vscode-notebook-cell:/media/data/robert/code/bids/vertebra_align/align.ipynb#W0sZmlsZQ%3D%3D?line=14'>15</a>\u001b[0m subreg_nib: nib\u001b[39m.\u001b[39mNifti1Image \u001b[39m=\u001b[39m nib\u001b[39m.\u001b[39;49mload(\u001b[39m\"\u001b[39;49m\u001b[39mvertebra_align/subreg.nii.gz\u001b[39;49m\u001b[39m\"\u001b[39;49m)\n\u001b[1;32m     <a href='vscode-notebook-cell:/media/data/robert/code/bids/vertebra_align/align.ipynb#W0sZmlsZQ%3D%3D?line=15'>16</a>\u001b[0m vert_nib \u001b[39m=\u001b[39m nib\u001b[39m.\u001b[39mload(\u001b[39m\"\u001b[39m\u001b[39mvertebra_align/vert.nii.gz\u001b[39m\u001b[39m\"\u001b[39m)\n\u001b[1;32m     <a href='vscode-notebook-cell:/media/data/robert/code/bids/vertebra_align/align.ipynb#W0sZmlsZQ%3D%3D?line=16'>17</a>\u001b[0m subreg_arr1 \u001b[39m=\u001b[39m subreg_nib\u001b[39m.\u001b[39mget_fdata()\n",
      "File \u001b[0;32m/usr/local/lib/python3.10/dist-packages/nibabel/loadsave.py:92\u001b[0m, in \u001b[0;36mload\u001b[0;34m(filename, **kwargs)\u001b[0m\n\u001b[1;32m     90\u001b[0m     stat_result \u001b[39m=\u001b[39m os\u001b[39m.\u001b[39mstat(filename)\n\u001b[1;32m     91\u001b[0m \u001b[39mexcept\u001b[39;00m \u001b[39mOSError\u001b[39;00m:\n\u001b[0;32m---> 92\u001b[0m     \u001b[39mraise\u001b[39;00m \u001b[39mFileNotFoundError\u001b[39;00m(\u001b[39mf\u001b[39m\u001b[39m\"\u001b[39m\u001b[39mNo such file or no access: \u001b[39m\u001b[39m'\u001b[39m\u001b[39m{\u001b[39;00mfilename\u001b[39m}\u001b[39;00m\u001b[39m'\u001b[39m\u001b[39m\"\u001b[39m)\n\u001b[1;32m     93\u001b[0m \u001b[39mif\u001b[39;00m stat_result\u001b[39m.\u001b[39mst_size \u001b[39m<\u001b[39m\u001b[39m=\u001b[39m \u001b[39m0\u001b[39m:\n\u001b[1;32m     94\u001b[0m     \u001b[39mraise\u001b[39;00m ImageFileError(\u001b[39mf\u001b[39m\u001b[39m\"\u001b[39m\u001b[39mEmpty file: \u001b[39m\u001b[39m'\u001b[39m\u001b[39m{\u001b[39;00mfilename\u001b[39m}\u001b[39;00m\u001b[39m'\u001b[39m\u001b[39m\"\u001b[39m)\n",
      "\u001b[0;31mFileNotFoundError\u001b[0m: No such file or no access: 'vertebra_align/subreg.nii.gz'"
     ]
    }
   ],
   "source": [
    "from __future__ import annotations\n",
    "\n",
    "%load_ext autoreload\n",
    "%autoreload 2\n",
    "import math\n",
    "import sys\n",
    "from pathlib import Path\n",
    "\n",
    "sys.path.append('/media/data/robert/code/bids')\n",
    "from bids_files import BIDS_FILE\n",
    "import numpy as np\n",
    "from nii_utils import calc_centroids, centroids_to_dict\n",
    "import nibabel as nib\n",
    "\n",
    "subreg_nib: nib.Nifti1Image = nib.load(\"vertebra_align/subreg.nii.gz\")\n",
    "vert_nib = nib.load(\"vertebra_align/vert.nii.gz\")\n",
    "subreg_arr1 = subreg_nib.get_fdata()\n",
    "vert_arr1 = vert_nib.get_fdata()\n",
    "arr = np.zeros_like(subreg_arr1)"
   ]
  },
  {
   "cell_type": "code",
   "execution_count": 152,
   "metadata": {},
   "outputs": [
    {
     "name": "stdout",
     "output_type": "stream",
     "text": [
      "0.0\n",
      "13.0\n",
      "14.0\n",
      "15.0\n",
      "16.0\n",
      "17.0\n",
      "18.0\n",
      "19.0\n",
      "20.0\n",
      "21.0\n"
     ]
    }
   ],
   "source": [
    "vert_arr_dict:dict[int,np.ndarray] = {}\n",
    "for vert_id in np.unique(vert_arr1):\n",
    "    # vert_id = 17\n",
    "    print(vert_id)\n",
    "    subreg_arr = subreg_arr1.copy()\n",
    "    vert_arr = vert_arr1.copy()\n",
    "    vert_arr[vert_arr != vert_id] = 0\n",
    "    vert_arr[vert_arr == vert_id] = 1\n",
    "    subreg_arr *= vert_arr\n",
    "    vert_arr_dict[vert_id] = subreg_arr"
   ]
  },
  {
   "cell_type": "code",
   "execution_count": 153,
   "metadata": {},
   "outputs": [],
   "source": [
    "import matplotlib.pyplot as plt\n",
    "import numpy as np\n",
    "\n",
    "\n",
    "import open3d as o3d\n",
    "\n",
    "#o3d_bbox.R\n",
    "#np.asarray(o3d_bbox.get_box_points())\n"
   ]
  },
  {
   "cell_type": "code",
   "execution_count": null,
   "metadata": {},
   "outputs": [],
   "source": []
  },
  {
   "cell_type": "code",
   "execution_count": 159,
   "metadata": {},
   "outputs": [],
   "source": [
    "arr = np.zeros_like(subreg_arr1)\n",
    "import numpy as np\n",
    "import SimpleITK as sitk\n",
    "for vert_id in np.unique(vert_arr1)[1:]:\n",
    "    x = vert_arr_dict[vert_id]\n",
    "    inp = np.array(np.where(x!=49))\n",
    "    if inp.shape[-1] == 0:\n",
    "        continue\n",
    "    \n",
    "    sub_pcd_o3d = o3d.utility.Vector3dVector(inp.T)\n",
    "    o3d_bbox = o3d.geometry.OrientedBoundingBox.create_from_points(sub_pcd_o3d)\n",
    "    extent = o3d_bbox.extent\n",
    "    image_2D = sitk.Image(arr.shape, sitk.sitkFloat32)\n",
    "    image_2D*=0\n",
    "    extent = [int(round(i)) for i in extent]\n",
    "    \n",
    "    image_2D[:int(extent[-1]),:int(extent[-2]),:int(extent[-3])] = 1\n",
    "    img = sitk.GetImageFromArray(arr)\n",
    "    \n",
    "    translation = sitk.TranslationTransform(3, list(reversed(o3d_bbox.center)))\n",
    "    translation_extend = sitk.TranslationTransform(3, [i/2 for i in reversed(o3d_bbox.extent)])\n",
    "    rotation3 = sitk.VersorTransform()\n",
    "    rotation3.SetCenter([-i for i in reversed(o3d_bbox.center)])\n",
    "    rot = np.array(o3d_bbox.R[::-1,::-1])#\n",
    "    rotation3.SetMatrix(rot.reshape(-1))\n",
    "\n",
    "    composite = sitk.CompositeTransform(translation_extend)\n",
    "    composite.AddTransform(rotation3.GetInverse())\n",
    "    composite.AddTransform(translation.GetInverse())\n",
    "\n",
    "    image_2D = sitk.Resample(\n",
    "            image_2D,\n",
    "            img,\n",
    "            composite,\n",
    "            sitk.sitkLinear,\n",
    "            0.0,\n",
    "            image_2D.GetPixelID(),\n",
    "        )\n",
    "    out = sitk.GetArrayFromImage(sitk.Cast(image_2D, sitk.sitkInt32))\n",
    "    arr[out!=0] = vert_id\n",
    "\n",
    "\n"
   ]
  },
  {
   "cell_type": "code",
   "execution_count": 160,
   "metadata": {},
   "outputs": [],
   "source": [
    "#https://docs.scipy.org/doc/scipy/reference/generated/scipy.spatial.transform.Rotation.html\n",
    "\n",
    "\n",
    "nib.save(\n",
    "    nib.Nifti1Image(arr, subreg_nib.affine),\n",
    "    \"vertebra_align/centroids2.nii.gz\",\n",
    ")"
   ]
  },
  {
   "cell_type": "code",
   "execution_count": null,
   "metadata": {},
   "outputs": [],
   "source": []
  },
  {
   "cell_type": "code",
   "execution_count": 156,
   "metadata": {},
   "outputs": [],
   "source": [
    "#https://docs.scipy.org/doc/scipy/reference/generated/scipy.spatial.transform.Rotation.html\n",
    "\n",
    "\n",
    "nib.save(\n",
    "    nib.Nifti1Image(arr, subreg_nib.affine),\n",
    "    \"vertebra_align/centroids2.nii.gz\",\n",
    ")"
   ]
  },
  {
   "cell_type": "code",
   "execution_count": null,
   "metadata": {},
   "outputs": [],
   "source": []
  }
 ],
 "metadata": {
  "kernelspec": {
   "display_name": "Python 3.10.4 64-bit",
   "language": "python",
   "name": "python3"
  },
  "language_info": {
   "codemirror_mode": {
    "name": "ipython",
    "version": 3
   },
   "file_extension": ".py",
   "mimetype": "text/x-python",
   "name": "python",
   "nbconvert_exporter": "python",
   "pygments_lexer": "ipython3",
   "version": "3.10.4"
  },
  "orig_nbformat": 4,
  "vscode": {
   "interpreter": {
    "hash": "916dbcbb3f70747c44a77c7bcd40155683ae19c65e1c03b4aa3499c5328201f1"
   }
  }
 },
 "nbformat": 4,
 "nbformat_minor": 2
}
