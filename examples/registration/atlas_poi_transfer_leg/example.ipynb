{
 "cells": [
  {
   "cell_type": "markdown",
   "metadata": {},
   "source": [
    "## Transfer POI from on knee to another\n",
    "\n",
    "This jupiter notebook shows you_\n",
    "- how to make a single Leg point atlas file.\n",
    "- how to registrate these point to a other segmentation.\n",
    "- how to add new Points to the atlas\n",
    "\n",
    "We expect that you have the same numbering as Network 10 from https://github.com/robert-graf/TotalVibeSegmentator\n",
    "\n",
    "- sacrum: 11,\n",
    "- hip: 12,\n",
    "- femur: 13,\n",
    "- patella: 14,\n",
    "- tibia: 15,\n",
    "- fibula: 16,\n",
    "- talus: 17,\n",
    "- calcaneus: 18,\n",
    "- tarsals: 19,\n",
    "- metatarsals: 20,\n",
    "- phalanges: 21,\n",
    "- trachea: 22,"
   ]
  },
  {
   "cell_type": "markdown",
   "metadata": {},
   "source": [
    "### Installation\n",
    "torch : https://pytorch.org/get-started/locally/\n",
    "\n",
    "```bash\n",
    "pip install TPTBox\n",
    "\n",
    "pip install hf-deepali\n",
    "```\n"
   ]
  },
  {
   "cell_type": "code",
   "execution_count": null,
   "metadata": {},
   "outputs": [],
   "source": [
    "%load_ext autoreload\n",
    "%autoreload 2\n",
    "import os\n",
    "\n",
    "os.environ[\"CUDA_VISIBLE_DEVICES\"] = \"3\"\n"
   ]
  },
  {
   "cell_type": "code",
   "execution_count": null,
   "metadata": {},
   "outputs": [],
   "source": [
    "from TPTBox.segmentation.TotalVibeSeg import run_totalvibeseg\n",
    "\n",
    "path_to_ct = \"...\"\n",
    "out_seg = \"seg.nii.gz\"\n",
    "ddevice = \"cpu\" #\"cuda\" / \"mps\"\n",
    "run_totalvibeseg(path_to_ct,out_seg=out_seg,override=False,gpu=1,ddevice=ddevice,dataset_id=10,keep_size=True)"
   ]
  },
  {
   "cell_type": "markdown",
   "metadata": {},
   "source": [
    "# Making a new atlas\n",
    "\n",
    "You need a poi file or a text file in this format:\n",
    "\n",
    "```bash\n",
    "TGT (139.4188232421875, -92.69547271728516, 1138.0546875)\n",
    "FHC (93.09368133544922, -108.62625885009766, 1136.891845703125)\n",
    "FNC (107.05316162109375, -107.46392059326172, 1121.36865234375)\n",
    "FAAP (110.07427978515625, -110.30272674560547, 1027.859130859375)\n",
    "FLCD (89.51376342773438, -108.07373046875, 732.1410522460938)\n",
    "FMCD (41.474029541015625, -103.25114440917969, 731.2152709960938)\n",
    "FLCP (92.19694519042969, -84.93902587890625, 751.868896484375)\n",
    "FMCP (42.786216735839844, -74.31689453125, 753.4283447265625)\n",
    "FNP (63.380027770996094, -116.54719543457031, 739.7014770507812)\n",
    "FADP (71.667724609375, -121.2674560546875, 822.39990234375)\n",
    "TGPP (60.06828308105469, -132.88507080078125, 758.1168823242188)\n",
    "TGCP (61.84690475463867, -131.874267578125, 751.1783447265625)\n",
    "FMCPC (46.220550537109375, -83.17189025878906, 767.088623046875)\n",
    "FLCPC (89.6451187133789, -92.42149353027344, 766.2191162109375)\n",
    "TRMP (46.96009826660156, -131.4429931640625, 748.450927734375)\n",
    "TRLP (79.27147674560547, -142.57913208007812, 754.849365234375)\n",
    "FLM (73.47111511230469, -97.508544921875, 384.16046142578125)\n",
    "TMM (19.230003356933594, -129.28802490234375, 393.071533203125)\n",
    "TAC (41.175079345703125, -114.86720275878906, 392.0289001464844)\n",
    "TADP (50.04762268066406, -116.96440887451172, 459.7703857421875)\n",
    "TLCL (99.41020202636719, -108.22544860839844, 727.647705078125)\n",
    "TMCM (34.0052490234375, -97.65898132324219, 727.727783203125)\n",
    "TKC (67.44658660888672, -99.75123596191406, 734.62744140625)\n",
    "TLCA (88.45868682861328, -119.93305969238281, 729.4689331054688)\n",
    "TLCP (91.51274871826172, -91.85955047607422, 726.2589721679688)\n",
    "TMCA (42.026023864746094, -118.33468627929688, 732.6619262695312)\n",
    "TMCP (48.68177032470703, -83.51608276367188, 726.7157592773438)\n",
    "TTP (70.8026123046875, -137.39186096191406, 697.2947998046875)\n",
    "TAAP (62.44767761230469, -117.48356628417969, 654.552490234375)\n",
    "TMIT (60.547447204589844, -99.73310852050781, 736.443359375)\n",
    "TLIT (73.91001892089844, -99.01293182373047, 735.8458251953125)\n",
    "PPP (60.099151611328125, -142.22222900390625, 776.0038452148438)\n",
    "PDP (62.95762634277344, -146.806884765625, 739.1683959960938)\n",
    "PMP (43.483184814453125, -149.5174560546875, 754.05224609375)\n",
    "PLP (80.17727661132812, -150.05401611328125, 762.3734130859375)\n",
    "PRPP (59.09102249145508, -141.71621704101562, 775.1181030273438)\n",
    "PRDP (57.41969680786133, -137.11688232421875, 748.3690185546875)\n",
    "PRHP (61.70811462402344, -138.3133544921875, 751.9981079101562)\n",
    "```\n"
   ]
  },
  {
   "cell_type": "markdown",
   "metadata": {},
   "source": [
    "We assume that all atlases will be flipped so they will be always a \"left leg\""
   ]
  },
  {
   "cell_type": "code",
   "execution_count": null,
   "metadata": {},
   "outputs": [],
   "source": [
    "#Step 1\n",
    "from pathlib import Path\n",
    "\n",
    "from atlas_poi_transfer import parse_coordinates_to_poi, prep_Atlas\n",
    "\n",
    "from TPTBox import POI, to_nii\n",
    "from TPTBox.core.vert_constants import Full_Body_Instance, Lower_Body\n",
    "\n",
    "##########################################\n",
    "#Settings\n",
    "text_file_is_left_leg = True\n",
    "file_text = \"010__left.txt\"\n",
    "segmentation_path = \"/DATA/NAS/datasets_processed/CT_fullbody/dataset-watrinet/source/Dataset001_all/0001/bone.nii.gz\"\n",
    "out_folder = Path(\"/DATA/NAS/datasets_processed/CT_fullbody/dataset-watrinet/atlas\")\n",
    "atlas_id = 1\n",
    "##########################################\n",
    "# Load segmentation\n",
    "seg = to_nii(segmentation_path,True)\n",
    "\n",
    "if not text_file_is_left_leg:\n",
    "    axis = seg.get_axis(\"R\")\n",
    "    if axis == 0:\n",
    "        target = seg.set_array(seg.get_array()[::-1]).copy()\n",
    "    elif axis == 1:\n",
    "        target = seg.set_array(seg.get_array()[:, ::-1]).copy()\n",
    "    elif axis == 2:\n",
    "        target = seg.set_array(seg.get_array()[:, :, ::-1]).copy()\n",
    "assert text_file_is_left_leg, \"Not implement: Flip NII and POI\"\n",
    "# Prep atlas\n",
    "atlas_path = out_folder/f\"atlas{atlas_id:03}.nii.gz\"\n",
    "atlas_cms_poi_path = out_folder/f\"atlas{atlas_id:03}_cms_poi.json\" # Center of mass\n",
    "atlas_poi_path = out_folder/f\"atlas{atlas_id:03}_poi.json\"\n",
    "prep_Atlas(target,atlas_path,atlas_cms_poi_path,text_file_is_left_leg)\n",
    "\n",
    "\n",
    "poi = parse_coordinates_to_poi(file_text, True).to_other(seg) if \".txt\" in file_text else POI.load(file_text).resample_from_to(seg)\n",
    "if not text_file_is_left_leg:\n",
    "    for k1, k2, (x, y, z) in poi.items():\n",
    "        axis = poi.get_axis(\"R\")\n",
    "        if axis == 0:\n",
    "            poi[k1, k2] = (poi.shape[0] - 1 - x, y, z)\n",
    "        elif axis == 1:\n",
    "            poi[k1, k2] = (x, poi.shape[1] - 1 - y, z)\n",
    "        elif axis == 2:\n",
    "            poi[k1, k2] = (x, y, poi.shape[2] - 1 - z)\n",
    "        else:\n",
    "            raise ValueError(axis)\n",
    "poi.level_one_info=Full_Body_Instance\n",
    "poi.level_two_info=Lower_Body\n",
    "poi.to_global().save(atlas_poi_path)\n"
   ]
  },
  {
   "cell_type": "markdown",
   "metadata": {},
   "source": [
    "Check if the other leg was removed from the atlas."
   ]
  },
  {
   "cell_type": "code",
   "execution_count": null,
   "metadata": {},
   "outputs": [],
   "source": [
    "from IPython.display import Image\n",
    "\n",
    "from TPTBox.spine.snapshot2D import Snapshot_Frame, Visualization_Type, create_snapshot\n",
    "\n",
    "out_file = \"out.jpg\"\n",
    "create_snapshot(out_file,[Snapshot_Frame(atlas_path,atlas_path,atlas_poi_path,visualization_type = Visualization_Type.Mean_Intensity,coronal=True)])\n",
    "Image(filename=out_file)"
   ]
  },
  {
   "cell_type": "markdown",
   "metadata": {},
   "source": [
    "## Transferring POI to new Segmentation"
   ]
  },
  {
   "cell_type": "code",
   "execution_count": null,
   "metadata": {},
   "outputs": [],
   "source": [
    "#Step 1\n",
    "from pathlib import Path\n",
    "\n",
    "from atlas_poi_transfer import Register_Point_Atlas\n",
    "\n",
    "from TPTBox import POI, to_nii\n",
    "\n",
    "##########################################\n",
    "#Settings\n",
    "target_seg_path = \"/DATA/NAS/datasets_processed/CT_fullbody/dataset-watrinet/source/Dataset001_all/0003/bone.nii.gz\"#TODO Path to target seg\n",
    "s = str(target_seg_path).split('.')[0]\n",
    "split_leg_path = s + \"_seg-left-right-split_msk.nii.gz\"\n",
    "out_new_pois = s + \"_desc-leg_poi.json\"\n",
    "out_new_pois_nii = s + \"_desc-leg_poi.nii.gz\"\n",
    "atlas_id = 1\n",
    "ddevice = \"cuda\"\n",
    "gpu = 0\n",
    "##########################################\n",
    "# Atlas\n",
    "atlas_p = out_folder/f\"atlas{atlas_id:03}.nii.gz\"\n",
    "atlas_centroids = out_folder/f\"atlas{atlas_id:03}_cms_poi.json\" # Center of mass\n",
    "atlas_poi_path = out_folder/f\"atlas{atlas_id:03}_poi.json\"\n",
    "# Load segmentation\n",
    "target = to_nii(target_seg_path,True)\n",
    "atlas = to_nii(atlas_p,True)\n",
    "\n",
    "#Creating this object will start the registration\n",
    "registration_obj = Register_Point_Atlas(target,atlas,split_leg_path=split_leg_path,atlas_centroids=atlas_centroids,gpu=gpu,ddevice=ddevice, verbose=0)"
   ]
  },
  {
   "cell_type": "code",
   "execution_count": null,
   "metadata": {},
   "outputs": [],
   "source": [
    "out_poi = registration_obj.make_poi_from_poi(POI.load(atlas_poi_path),out_new_pois)\n",
    "nii = out_poi.make_point_cloud_nii()[1] + to_nii(split_leg_path,True)*100\n",
    "nii.save(out_new_pois_nii)"
   ]
  },
  {
   "cell_type": "markdown",
   "metadata": {},
   "source": [
    "## save\n",
    "You can save and load the Registration instead of recomputing it. "
   ]
  },
  {
   "cell_type": "code",
   "execution_count": null,
   "metadata": {},
   "outputs": [],
   "source": [
    "registration_obj.save(\"registration_obj.pkl\",compress=True)\n",
    "\n",
    "registration_obj_new = Register_Point_Atlas.load(\"registration_obj.pkl\")"
   ]
  },
  {
   "cell_type": "code",
   "execution_count": null,
   "metadata": {},
   "outputs": [],
   "source": []
  },
  {
   "cell_type": "code",
   "execution_count": null,
   "metadata": {},
   "outputs": [],
   "source": []
  },
  {
   "cell_type": "code",
   "execution_count": null,
   "metadata": {},
   "outputs": [],
   "source": []
  }
 ],
 "metadata": {
  "kernelspec": {
   "display_name": "py3.11",
   "language": "python",
   "name": "python3"
  },
  "language_info": {
   "codemirror_mode": {
    "name": "ipython",
    "version": 3
   },
   "file_extension": ".py",
   "mimetype": "text/x-python",
   "name": "python",
   "nbconvert_exporter": "python",
   "pygments_lexer": "ipython3",
   "version": "3.11.8"
  }
 },
 "nbformat": 4,
 "nbformat_minor": 2
}
