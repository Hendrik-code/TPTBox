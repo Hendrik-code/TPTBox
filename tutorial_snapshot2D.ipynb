{
 "cells": [
  {
   "attachments": {},
   "cell_type": "markdown",
   "metadata": {
    "pycharm": {
     "name": "#%% md\n"
    }
   },
   "source": [
    "## Snapshot2D\n",
    "\n",
    "Opening many Niftis is time consuming. Making Snapshots (jpg) and storing them in a single folder enables us to look at the dataset in a much more efficient way.\n",
    "\n",
    "We recommend generating two files, one in derivatives or rawdata and in one separate folder where all snapshots are. (create_snapshot([out_file,other_out_file],mr_frame))"
   ]
  },
  {
   "cell_type": "code",
   "execution_count": null,
   "metadata": {
    "pycharm": {
     "name": "#%%\n"
    }
   },
   "outputs": [],
   "source": [
    "from BIDS.snapshot2D import create_snapshot,Snapshot_Frame,Visualization_Type,Image_Modes\n",
    "from pathlib import Path\n",
    "from IPython.display import Image"
   ]
  },
  {
   "cell_type": "code",
   "execution_count": null,
   "metadata": {
    "pycharm": {
     "name": "#%%\n"
    }
   },
   "outputs": [],
   "source": [
    "#Lets load images and segmentations\n",
    "root = \"/media/data/robert/datasets/2022_06_21_T1_CT_wopathfx/dataset_org/\"\n",
    "ct_file = Path(root,\"rawdata/fxclass0001/20190404_0135449541/sub-fxclass0001_dir-iso_sequ-WSKFfurMPRiDose4201_ct.nii.gz\")\n",
    "mr_file = Path(root,\"rawdata/fxclass0001/20190510_0135609116/sub-fxclass0001_dir-sag_sequ-T1WTSE301_T1.nii.gz\")\n",
    "mr_ctd_file = Path(root,\"derivatives/fxclass0001/20190510_0135609116/sub-fxclass0001_dir-sag_sequ-T1WTSE301_seg-subreg_ctd.json\")\n",
    "subreg_file = Path(root,\"derivatives/fxclass0001/20190404_0135449541/sub-fxclass0001_dir-iso_sequ-WSKFfurMPRiDose4201_seg-subreg_msk.nii.gz\")\n",
    "vert_file = Path(root,\"derivatives/fxclass0001/20190404_0135449541/sub-fxclass0001_dir-iso_sequ-WSKFfurMPRiDose4201_seg-vert_msk.nii.gz\")\n",
    "ctd_file = Path(root,\"derivatives/fxclass0001/20190404_0135449541/sub-fxclass0001_dir-iso_sequ-WSKFfurMPRiDose4201_seg-subreg_ctd.json\")\n",
    "out_file = Path('/tmp/out.jpg')\n",
    "ctd_proc_file = Path('/tmp/ctd.json')\n"
   ]
  },
  {
   "attachments": {},
   "cell_type": "markdown",
   "metadata": {
    "pycharm": {
     "name": "#%% md\n"
    }
   },
   "source": [
    "## Making Snapshots\n",
    "\n",
    "Use Snapshot_Frame() and create_snapshot() to make snapshots.\n",
    "Snapshot_Frame() has a bunch of important options:\n",
    "\n",
    "mode: changes how the images are clamped\n",
    "possibilities:\n",
    "\n",
    "MINMAX [MIN,MAX] default\n",
    "\n",
    "MRI    [0,99%]\n",
    "\n",
    "CT     [-200,1000]\n",
    "\n",
    "CTs    [-500,1300] no_clip\n",
    "\n"
   ]
  },
  {
   "cell_type": "code",
   "execution_count": null,
   "metadata": {
    "pycharm": {
     "name": "#%%\n"
    }
   },
   "outputs": [],
   "source": [
    "\n",
    "mr_frame = [Snapshot_Frame(mr_file,mode='MRI'),Snapshot_Frame(mr_file,mode='MINMAX'),Snapshot_Frame(mr_file,mode='CT')] #without centroids\n",
    "if mr_ctd_file.exists():\n",
    "    #with centroids\n",
    "    mr_frame.append(Snapshot_Frame(mr_file,centroids=mr_ctd_file,mode='MRI'))\n",
    "create_snapshot(out_file,mr_frame)\n",
    "Image(filename=out_file) "
   ]
  },
  {
   "attachments": {},
   "cell_type": "markdown",
   "metadata": {
    "pycharm": {
     "name": "#%% md\n"
    }
   },
   "source": [
    "### Showing CT with segmentation and centroids\n",
    "\n",
    "sagittal, coronal, axial (bool) sets which views are used for the snapshot\n",
    "give the snapshot a segmentation and centroids by setting the corresponding arguments"
   ]
  },
  {
   "cell_type": "code",
   "execution_count": null,
   "metadata": {
    "pycharm": {
     "name": "#%%\n"
    }
   },
   "outputs": [],
   "source": [
    "ct_frame = Snapshot_Frame(ct_file,segmentation=vert_file,centroids=ctd_file,sagittal=True,coronal=True,mode='CT')\n",
    "create_snapshot(out_file,[ct_frame])\n",
    "Image(filename=out_file) "
   ]
  },
  {
   "attachments": {},
   "cell_type": "markdown",
   "metadata": {
    "pycharm": {
     "name": "#%% md\n"
    }
   },
   "source": [
    "### Making a MIP (Maximum intensity projections)\n",
    "\n",
    "You can change the visualization type to \"Maximum_Intensity\", which takes the maximum value along the corresponding axes for the snapshot"
   ]
  },
  {
   "cell_type": "code",
   "execution_count": null,
   "metadata": {
    "pycharm": {
     "name": "#%%\n"
    }
   },
   "outputs": [],
   "source": [
    "mip_frame = Snapshot_Frame(ct_file,sagittal=True,coronal=True,visualization_type=Visualization_Type.Maximum_Intensity)\n",
    "create_snapshot(out_file,[mip_frame])\n",
    "Image(filename=out_file) "
   ]
  },
  {
   "attachments": {},
   "cell_type": "markdown",
   "metadata": {
    "pycharm": {
     "name": "#%% md\n"
    }
   },
   "source": [
    "### Show multiple images\n",
    "\n",
    "To show multiple snapshots of different modalities side by side, just give the create_snapshot function a list of different Snapshot_Frames"
   ]
  },
  {
   "cell_type": "code",
   "execution_count": null,
   "metadata": {
    "pycharm": {
     "name": "#%%\n"
    }
   },
   "outputs": [],
   "source": [
    "ct_frame_subreg = Snapshot_Frame(ct_file,segmentation=subreg_file,centroids=ctd_file,sagittal=True,coronal=True,mode='CT')\n",
    "create_snapshot(out_file,[ct_frame,ct_frame_subreg,mip_frame])\n",
    "Image(filename=out_file) "
   ]
  },
  {
   "attachments": {},
   "cell_type": "markdown",
   "metadata": {
    "pycharm": {
     "name": "#%% md\n"
    }
   },
   "source": [
    "### Show only the mask\n",
    "\n",
    "you can set \"only_mask_area=True\" to only snapshot the parts that are part of the vertebra mask segmentation."
   ]
  },
  {
   "cell_type": "code",
   "execution_count": null,
   "metadata": {
    "pycharm": {
     "name": "#%%\n"
    }
   },
   "outputs": [],
   "source": [
    "ct_frame = Snapshot_Frame(ct_file,segmentation=vert_file,centroids=ctd_file,sagittal=True,coronal=True,visualization_type=Visualization_Type.Slice,mode='CT',only_mask_area=True,hide_segmentation=True)\n",
    "mip_frame = Snapshot_Frame(ct_file,segmentation=vert_file,centroids=ctd_file,sagittal=True,coronal=True,visualization_type=Visualization_Type.Maximum_Intensity,only_mask_area=True,hide_segmentation=True,hide_centroids=True)\n",
    "create_snapshot(out_file,[ct_frame,mip_frame])\n",
    "Image(filename=out_file) "
   ]
  },
  {
   "attachments": {},
   "cell_type": "markdown",
   "metadata": {
    "pycharm": {
     "name": "#%% md\n"
    }
   },
   "source": [
    "# Computing Centroids\n",
    "We recommend always compute centroids, store them and reload them if they already exit. This will speed up the centroid generation.\n",
    "\n",
    "calc_centroids_labeled_buffered will load the Centroid file if present; \n",
    "\n",
    "else it will compute and save the Centroid file\n",
    "\n",
    "Note: If you provide only BIDS_File the \"calc_centroids_labeled_buffered\" methods can compute an automatic path\n"
   ]
  },
  {
   "cell_type": "code",
   "execution_count": null,
   "metadata": {
    "pycharm": {
     "name": "#%%\n"
    }
   },
   "outputs": [],
   "source": [
    "from BIDS import calc_centroids_labeled_buffered,Location\n",
    "import time\n",
    "if ctd_proc_file.exists():\n",
    "    ctd_proc_file.unlink()\n",
    "t_s = time.time()\n",
    "cdt_proc = calc_centroids_labeled_buffered(vert_file,subreg_file,out_path=ctd_proc_file,subreg_id=Location.Spinosus_Process)\n",
    "print(cdt_proc)\n",
    "print(f\"It took {time.time()-t_s:.1f} seconds to compute the centroids\")\n",
    "t_s = time.time()\n",
    "cdt_proc = calc_centroids_labeled_buffered(vert_file,subreg_file,out_path=ctd_proc_file,subreg_id=Location.Spinosus_Process)\n",
    "print(f\"It took {time.time()-t_s:.5f} seconds to load the centroids\")"
   ]
  },
  {
   "cell_type": "code",
   "execution_count": null,
   "metadata": {
    "pycharm": {
     "name": "#%%\n"
    }
   },
   "outputs": [],
   "source": [
    "frame = Snapshot_Frame(ct_file,segmentation=vert_file,centroids=cdt_proc,sagittal=True,coronal=True,axial=True,mode='CT')\n",
    "create_snapshot(out_file,[frame])\n",
    "Image(filename=out_file) "
   ]
  },
  {
   "cell_type": "code",
   "execution_count": null,
   "metadata": {
    "pycharm": {
     "name": "#%%\n"
    }
   },
   "outputs": [],
   "source": [
    "out_file.unlink()\n",
    "ctd_proc_file.unlink()"
   ]
  },
  {
   "cell_type": "code",
   "execution_count": null,
   "metadata": {
    "pycharm": {
     "name": "#%%\n"
    }
   },
   "outputs": [],
   "source": []
  }
 ],
 "metadata": {
  "kernelspec": {
   "display_name": "py3.10",
   "language": "python",
   "name": "python3"
  },
  "language_info": {
   "codemirror_mode": {
    "name": "ipython",
    "version": 3
   },
   "file_extension": ".py",
   "mimetype": "text/x-python",
   "name": "python",
   "nbconvert_exporter": "python",
   "pygments_lexer": "ipython3",
   "version": "3.10.10"
  },
  "orig_nbformat": 4,
  "vscode": {
   "interpreter": {
    "hash": "856182c64741417959fd46a52606ac399fe54e69ad9697a20c4f35644f875db1"
   }
  }
 },
 "nbformat": 4,
 "nbformat_minor": 2
}
